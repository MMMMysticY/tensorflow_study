{
 "cells": [
  {
   "cell_type": "markdown",
   "metadata": {
    "collapsed": true,
    "pycharm": {
     "name": "#%% md\n"
    }
   },
   "source": [
    "# LeNet"
   ]
  },
  {
   "cell_type": "code",
   "execution_count": 1,
   "outputs": [],
   "source": [
    "import matplotlib.pyplot as plt\n",
    "import tensorflow as tf\n",
    "from sklearn.datasets import load_iris\n",
    "import os\n",
    "import pandas as pd\n",
    "import numpy as np\n",
    "import tensorflow.keras as keras\n",
    "from keras import Model\n",
    "from tensorflow.keras import Model\n",
    "from sklearn.preprocessing import MinMaxScaler\n",
    "from PIL import Image\n",
    "os.environ['CUDA_VISIBLE_DEVICES'] = '1' # 使用 GPU 1\n",
    "os.environ['TF_FORCE_GPU_ALLOW_GROWTH'] = 'true'\n",
    "physical_devices = tf.config.list_physical_devices(\"GPU\")\n",
    "tf.config.experimental.set_memory_growth(physical_devices[0],True)\n",
    "logical_devices = tf.config.list_logical_devices(\"GPU\")"
   ],
   "metadata": {
    "collapsed": false,
    "pycharm": {
     "name": "#%%\n"
    }
   }
  },
  {
   "cell_type": "code",
   "execution_count": 2,
   "outputs": [],
   "source": [
    "# dataset\n",
    "cifar10 = keras.datasets.cifar10\n",
    "(x_train, y_train), (x_test, y_test) = cifar10.load_data()"
   ],
   "metadata": {
    "collapsed": false,
    "pycharm": {
     "name": "#%%\n"
    }
   }
  },
  {
   "cell_type": "code",
   "execution_count": 3,
   "outputs": [
    {
     "name": "stdout",
     "output_type": "stream",
     "text": [
      "x_train_shape:  (50000, 32, 32, 3)\n",
      "y_train_shape:  (50000, 1)\n",
      "x_test_shape:  (10000, 32, 32, 3)\n",
      "y_test_shape:  (10000, 1)\n"
     ]
    }
   ],
   "source": [
    "print('x_train_shape: ', x_train.shape)\n",
    "print('y_train_shape: ', y_train.shape)\n",
    "print('x_test_shape: ', x_test.shape)\n",
    "print('y_test_shape: ', y_test.shape)"
   ],
   "metadata": {
    "collapsed": false,
    "pycharm": {
     "name": "#%%\n"
    }
   }
  },
  {
   "cell_type": "code",
   "execution_count": 4,
   "outputs": [],
   "source": [
    "# 归一化\n",
    "x_train = x_train / 255.0\n",
    "x_test = x_test / 255.0"
   ],
   "metadata": {
    "collapsed": false,
    "pycharm": {
     "name": "#%%\n"
    }
   }
  },
  {
   "cell_type": "code",
   "execution_count": 5,
   "outputs": [],
   "source": [
    "# model\n",
    "class LeNetModel(Model):\n",
    "    def __init__(self, fileter1 = 6, kernel_size1 = (5,5), stride1 = 1, padding_mode1 = 'valid',\n",
    "                 max_pool_kernel_1 = (2,2), max_pool_stride_1 = 2, max_pool_padding1 = 'valid',\n",
    "                 fileter2 = 16, kernel_size2 = (5,5), stride2 = 1, padding_mode2 = 'valid',\n",
    "                 max_pool_kernel_2 = (2,2), max_pool_stride_2 = 2, max_pool_padding2 = 'valid',\n",
    "                 hidden1 = 120, hidden2 = 84, classes = 10):\n",
    "        super(LeNetModel, self).__init__()\n",
    "        self.conv1 = keras.layers.Conv2D(filters=fileter1, kernel_size=kernel_size1, strides=stride1, padding=padding_mode1, activation='sigmoid')\n",
    "        self.max_pool1 = keras.layers.MaxPool2D(pool_size=max_pool_kernel_1,strides=max_pool_stride_1,padding=max_pool_padding1)\n",
    "        self.conv2 = keras.layers.Conv2D(filters=fileter2, kernel_size=kernel_size2, strides=stride2, padding=padding_mode2, activation='sigmoid')\n",
    "        self.max_pool2 = keras.layers.MaxPool2D(pool_size=max_pool_kernel_2, strides=max_pool_stride_2, padding=max_pool_padding2)\n",
    "        self.flatten = keras.layers.Flatten()\n",
    "        self.d1 = keras.layers.Dense(units=hidden1,activation='sigmoid')\n",
    "        self.d2 = keras.layers.Dense(units=hidden2, activation='sigmoid')\n",
    "        self.d3 = keras.layers.Dense(units=classes, activation='softmax')\n",
    "\n",
    "    def call(self, inputs, training=None, mask=None):\n",
    "        # inputs [batch_size, height, width, channel] = [batch, 32, 32, 3]\n",
    "        x = self.conv1(inputs)\n",
    "        # [batch_size, height - kernel + 1, width - kernel + 1, filter] = [batch_size, 28, 28, 6]\n",
    "        x = self.max_pool1(x)\n",
    "        # [batch_size, (height - pool_size) / stride + 1, (width - pool_size) / stride + 1, filter] = [batch_size, 14, 14, 6]\n",
    "        x = self.conv2(x)\n",
    "        # [batch_size, 10, 10, 16]\n",
    "        x = self.max_pool2(x)\n",
    "        # [batch_size, 5, 5, 16]\n",
    "        x = self.flatten(x)\n",
    "        # [batch_size, 120]\n",
    "        x = self.d1(x)\n",
    "        # [batch_size, 120]\n",
    "        x = self.d2(x)\n",
    "        # [batch_size, 84]\n",
    "        y = self.d3(x)\n",
    "        # [batch_size, 10]\n",
    "        return y"
   ],
   "metadata": {
    "collapsed": false,
    "pycharm": {
     "name": "#%%\n"
    }
   }
  },
  {
   "cell_type": "code",
   "execution_count": 6,
   "outputs": [],
   "source": [
    "LeNet = LeNetModel()"
   ],
   "metadata": {
    "collapsed": false,
    "pycharm": {
     "name": "#%%\n"
    }
   }
  },
  {
   "cell_type": "code",
   "execution_count": 7,
   "outputs": [],
   "source": [
    "LeNet.compile(\n",
    "    optimizer=keras.optimizers.Adam(),\n",
    "    loss = keras.losses.SparseCategoricalCrossentropy(from_logits=False),\n",
    "    metrics=['sparse_categorical_accuracy']\n",
    ")"
   ],
   "metadata": {
    "collapsed": false,
    "pycharm": {
     "name": "#%%\n"
    }
   }
  },
  {
   "cell_type": "code",
   "execution_count": 9,
   "outputs": [],
   "source": [
    "checkpoint_save_path_lenet = 'tensorflow_study/chapter5/model_dir/simple_model/lenet.ckpt'\n",
    "\n",
    "cp_callback_lenet = keras.callbacks.ModelCheckpoint(\n",
    "    filepath=checkpoint_save_path_lenet,\n",
    "    save_weights_only=True,\n",
    "    save_best_only=True,\n",
    "    monitor='val_loss',\n",
    "    mode = 'max',\n",
    ")"
   ],
   "metadata": {
    "collapsed": false,
    "pycharm": {
     "name": "#%%\n"
    }
   }
  },
  {
   "cell_type": "code",
   "execution_count": 10,
   "outputs": [
    {
     "name": "stdout",
     "output_type": "stream",
     "text": [
      "Epoch 1/50\n",
      "782/782 [==============================] - 7s 6ms/step - loss: 2.1406 - sparse_categorical_accuracy: 0.1875 - val_loss: 1.9482 - val_sparse_categorical_accuracy: 0.2729\n",
      "Epoch 2/50\n",
      "782/782 [==============================] - 4s 5ms/step - loss: 1.8487 - sparse_categorical_accuracy: 0.3128 - val_loss: 1.7378 - val_sparse_categorical_accuracy: 0.3637\n",
      "Epoch 3/50\n",
      "782/782 [==============================] - 4s 5ms/step - loss: 1.6914 - sparse_categorical_accuracy: 0.3789 - val_loss: 1.6483 - val_sparse_categorical_accuracy: 0.3955\n",
      "Epoch 4/50\n",
      "782/782 [==============================] - 4s 5ms/step - loss: 1.5960 - sparse_categorical_accuracy: 0.4134 - val_loss: 1.5361 - val_sparse_categorical_accuracy: 0.4334\n",
      "Epoch 5/50\n",
      "782/782 [==============================] - 4s 5ms/step - loss: 1.5147 - sparse_categorical_accuracy: 0.4439 - val_loss: 1.4689 - val_sparse_categorical_accuracy: 0.4614\n",
      "Epoch 6/50\n",
      "782/782 [==============================] - 4s 5ms/step - loss: 1.4639 - sparse_categorical_accuracy: 0.4629 - val_loss: 1.4748 - val_sparse_categorical_accuracy: 0.4563\n",
      "Epoch 7/50\n",
      "782/782 [==============================] - 4s 6ms/step - loss: 1.4215 - sparse_categorical_accuracy: 0.4808 - val_loss: 1.4144 - val_sparse_categorical_accuracy: 0.4802\n",
      "Epoch 8/50\n",
      "782/782 [==============================] - 4s 5ms/step - loss: 1.3861 - sparse_categorical_accuracy: 0.4951 - val_loss: 1.4072 - val_sparse_categorical_accuracy: 0.4881\n",
      "Epoch 9/50\n",
      "782/782 [==============================] - 4s 5ms/step - loss: 1.3612 - sparse_categorical_accuracy: 0.5073 - val_loss: 1.3555 - val_sparse_categorical_accuracy: 0.5074\n",
      "Epoch 10/50\n",
      "782/782 [==============================] - 4s 5ms/step - loss: 1.3326 - sparse_categorical_accuracy: 0.5210 - val_loss: 1.3379 - val_sparse_categorical_accuracy: 0.5123\n",
      "Epoch 11/50\n",
      "782/782 [==============================] - 4s 5ms/step - loss: 1.3045 - sparse_categorical_accuracy: 0.5306 - val_loss: 1.3292 - val_sparse_categorical_accuracy: 0.5188\n",
      "Epoch 12/50\n",
      "782/782 [==============================] - 4s 5ms/step - loss: 1.2872 - sparse_categorical_accuracy: 0.5385 - val_loss: 1.3021 - val_sparse_categorical_accuracy: 0.5311\n",
      "Epoch 13/50\n",
      "782/782 [==============================] - 4s 5ms/step - loss: 1.2695 - sparse_categorical_accuracy: 0.5432 - val_loss: 1.3054 - val_sparse_categorical_accuracy: 0.5248\n",
      "Epoch 14/50\n",
      "782/782 [==============================] - 4s 5ms/step - loss: 1.2493 - sparse_categorical_accuracy: 0.5510 - val_loss: 1.2671 - val_sparse_categorical_accuracy: 0.5474\n",
      "Epoch 15/50\n",
      "782/782 [==============================] - 4s 5ms/step - loss: 1.2317 - sparse_categorical_accuracy: 0.5588 - val_loss: 1.2698 - val_sparse_categorical_accuracy: 0.5503\n",
      "Epoch 16/50\n",
      "782/782 [==============================] - 4s 5ms/step - loss: 1.2144 - sparse_categorical_accuracy: 0.5656 - val_loss: 1.2416 - val_sparse_categorical_accuracy: 0.5526\n",
      "Epoch 17/50\n",
      "782/782 [==============================] - 4s 5ms/step - loss: 1.1946 - sparse_categorical_accuracy: 0.5729 - val_loss: 1.2876 - val_sparse_categorical_accuracy: 0.5393\n",
      "Epoch 18/50\n",
      "782/782 [==============================] - 4s 5ms/step - loss: 1.1829 - sparse_categorical_accuracy: 0.5795 - val_loss: 1.2267 - val_sparse_categorical_accuracy: 0.5595\n",
      "Epoch 19/50\n",
      "782/782 [==============================] - 4s 5ms/step - loss: 1.1658 - sparse_categorical_accuracy: 0.5842 - val_loss: 1.2276 - val_sparse_categorical_accuracy: 0.5590\n",
      "Epoch 20/50\n",
      "782/782 [==============================] - 4s 5ms/step - loss: 1.1524 - sparse_categorical_accuracy: 0.5895 - val_loss: 1.2214 - val_sparse_categorical_accuracy: 0.5663\n",
      "Epoch 21/50\n",
      "782/782 [==============================] - 4s 5ms/step - loss: 1.1345 - sparse_categorical_accuracy: 0.5933 - val_loss: 1.1972 - val_sparse_categorical_accuracy: 0.5726\n",
      "Epoch 22/50\n",
      "782/782 [==============================] - 4s 5ms/step - loss: 1.1245 - sparse_categorical_accuracy: 0.5988 - val_loss: 1.2207 - val_sparse_categorical_accuracy: 0.5599\n",
      "Epoch 23/50\n",
      "782/782 [==============================] - 4s 5ms/step - loss: 1.1108 - sparse_categorical_accuracy: 0.6053 - val_loss: 1.1868 - val_sparse_categorical_accuracy: 0.5774\n",
      "Epoch 24/50\n",
      "782/782 [==============================] - 4s 5ms/step - loss: 1.0972 - sparse_categorical_accuracy: 0.6104 - val_loss: 1.2064 - val_sparse_categorical_accuracy: 0.5701\n",
      "Epoch 25/50\n",
      "782/782 [==============================] - 4s 5ms/step - loss: 1.0842 - sparse_categorical_accuracy: 0.6168 - val_loss: 1.1658 - val_sparse_categorical_accuracy: 0.5814\n",
      "Epoch 26/50\n",
      "782/782 [==============================] - 4s 5ms/step - loss: 1.0732 - sparse_categorical_accuracy: 0.6195 - val_loss: 1.1658 - val_sparse_categorical_accuracy: 0.5840\n",
      "Epoch 27/50\n",
      "782/782 [==============================] - 4s 5ms/step - loss: 1.0607 - sparse_categorical_accuracy: 0.6239 - val_loss: 1.1797 - val_sparse_categorical_accuracy: 0.5780\n",
      "Epoch 28/50\n",
      "782/782 [==============================] - 4s 5ms/step - loss: 1.0504 - sparse_categorical_accuracy: 0.6271 - val_loss: 1.1685 - val_sparse_categorical_accuracy: 0.5836\n",
      "Epoch 29/50\n",
      "782/782 [==============================] - 4s 5ms/step - loss: 1.0415 - sparse_categorical_accuracy: 0.6308 - val_loss: 1.1528 - val_sparse_categorical_accuracy: 0.5926\n",
      "Epoch 30/50\n",
      "782/782 [==============================] - 4s 5ms/step - loss: 1.0309 - sparse_categorical_accuracy: 0.6351 - val_loss: 1.1611 - val_sparse_categorical_accuracy: 0.5912\n",
      "Epoch 31/50\n",
      "782/782 [==============================] - 4s 5ms/step - loss: 1.0187 - sparse_categorical_accuracy: 0.6406 - val_loss: 1.1490 - val_sparse_categorical_accuracy: 0.5906\n",
      "Epoch 32/50\n",
      "782/782 [==============================] - 4s 5ms/step - loss: 1.0112 - sparse_categorical_accuracy: 0.6418 - val_loss: 1.1353 - val_sparse_categorical_accuracy: 0.5962\n",
      "Epoch 33/50\n",
      "782/782 [==============================] - 4s 5ms/step - loss: 0.9979 - sparse_categorical_accuracy: 0.6472 - val_loss: 1.1687 - val_sparse_categorical_accuracy: 0.5848\n",
      "Epoch 34/50\n",
      "782/782 [==============================] - 4s 5ms/step - loss: 0.9865 - sparse_categorical_accuracy: 0.6500 - val_loss: 1.1298 - val_sparse_categorical_accuracy: 0.5963\n",
      "Epoch 35/50\n",
      "782/782 [==============================] - 4s 5ms/step - loss: 0.9793 - sparse_categorical_accuracy: 0.6507 - val_loss: 1.1280 - val_sparse_categorical_accuracy: 0.6009\n",
      "Epoch 36/50\n",
      "782/782 [==============================] - 4s 5ms/step - loss: 0.9697 - sparse_categorical_accuracy: 0.6584 - val_loss: 1.1575 - val_sparse_categorical_accuracy: 0.5916\n",
      "Epoch 37/50\n",
      "782/782 [==============================] - 4s 5ms/step - loss: 0.9599 - sparse_categorical_accuracy: 0.6611 - val_loss: 1.1361 - val_sparse_categorical_accuracy: 0.5965\n",
      "Epoch 38/50\n",
      "782/782 [==============================] - 4s 5ms/step - loss: 0.9509 - sparse_categorical_accuracy: 0.6647 - val_loss: 1.1418 - val_sparse_categorical_accuracy: 0.5969\n",
      "Epoch 39/50\n",
      "782/782 [==============================] - 4s 5ms/step - loss: 0.9430 - sparse_categorical_accuracy: 0.6683 - val_loss: 1.1362 - val_sparse_categorical_accuracy: 0.6048\n",
      "Epoch 40/50\n",
      "782/782 [==============================] - 4s 5ms/step - loss: 0.9313 - sparse_categorical_accuracy: 0.6726 - val_loss: 1.1357 - val_sparse_categorical_accuracy: 0.6034\n",
      "Epoch 41/50\n",
      "782/782 [==============================] - 4s 5ms/step - loss: 0.9235 - sparse_categorical_accuracy: 0.6755 - val_loss: 1.1318 - val_sparse_categorical_accuracy: 0.6027\n",
      "Epoch 42/50\n",
      "782/782 [==============================] - 4s 5ms/step - loss: 0.9149 - sparse_categorical_accuracy: 0.6770 - val_loss: 1.1339 - val_sparse_categorical_accuracy: 0.6071\n",
      "Epoch 43/50\n",
      "782/782 [==============================] - 4s 5ms/step - loss: 0.9060 - sparse_categorical_accuracy: 0.6813 - val_loss: 1.1460 - val_sparse_categorical_accuracy: 0.5997\n",
      "Epoch 44/50\n",
      "782/782 [==============================] - 4s 5ms/step - loss: 0.9000 - sparse_categorical_accuracy: 0.6827 - val_loss: 1.1459 - val_sparse_categorical_accuracy: 0.6024\n",
      "Epoch 45/50\n",
      "782/782 [==============================] - 4s 5ms/step - loss: 0.8915 - sparse_categorical_accuracy: 0.6862 - val_loss: 1.1500 - val_sparse_categorical_accuracy: 0.6023\n",
      "Epoch 46/50\n",
      "782/782 [==============================] - 4s 5ms/step - loss: 0.8846 - sparse_categorical_accuracy: 0.6890 - val_loss: 1.1324 - val_sparse_categorical_accuracy: 0.6047\n",
      "Epoch 47/50\n",
      "782/782 [==============================] - 4s 5ms/step - loss: 0.8749 - sparse_categorical_accuracy: 0.6904 - val_loss: 1.1283 - val_sparse_categorical_accuracy: 0.6042\n",
      "Epoch 48/50\n",
      "782/782 [==============================] - 4s 5ms/step - loss: 0.8664 - sparse_categorical_accuracy: 0.6958 - val_loss: 1.1391 - val_sparse_categorical_accuracy: 0.6035\n",
      "Epoch 49/50\n",
      "782/782 [==============================] - 4s 5ms/step - loss: 0.8580 - sparse_categorical_accuracy: 0.7001 - val_loss: 1.1300 - val_sparse_categorical_accuracy: 0.6087\n",
      "Epoch 50/50\n",
      "782/782 [==============================] - 4s 5ms/step - loss: 0.8495 - sparse_categorical_accuracy: 0.7014 - val_loss: 1.1501 - val_sparse_categorical_accuracy: 0.6064\n"
     ]
    }
   ],
   "source": [
    "history = LeNet.fit(x_train, y_train,batch_size=64,epochs=50,validation_data=(x_test, y_test), validation_freq=1, callbacks=[cp_callback_lenet])"
   ],
   "metadata": {
    "collapsed": false,
    "pycharm": {
     "name": "#%%\n"
    }
   }
  },
  {
   "cell_type": "markdown",
   "source": [
    "# AlexNet"
   ],
   "metadata": {
    "collapsed": false,
    "pycharm": {
     "name": "#%% md\n"
    }
   }
  },
  {
   "cell_type": "code",
   "execution_count": 31,
   "outputs": [],
   "source": [
    "# model\n",
    "class AlexNetModel(Model):\n",
    "    def __init__(self):\n",
    "        super(AlexNetModel, self).__init__()\n",
    "        self.conv1 = keras.layers.Conv2D(filters=96, kernel_size=(3,3), strides=1, padding='valid')\n",
    "        self.bn1 = keras.layers.BatchNormalization()\n",
    "        self.act1 = keras.layers.ReLU()\n",
    "        self.max_pool1 = keras.layers.MaxPool2D(pool_size=(3,3),strides=2,padding='valid')\n",
    "\n",
    "        self.conv2 = keras.layers.Conv2D(filters=256, kernel_size=(3,3), strides=1, padding='valid')\n",
    "        self.bn2 = keras.layers.BatchNormalization()\n",
    "        self.act2 = keras.layers.ReLU()\n",
    "        self.max_pool2 = keras.layers.MaxPool2D(pool_size=(3,3),strides=2,padding='valid')\n",
    "\n",
    "        self.conv3 = keras.layers.Conv2D(filters=384, kernel_size=(3,3), strides=1, padding='same', activation='relu')\n",
    "\n",
    "        self.conv4 = keras.layers.Conv2D(filters=384, kernel_size=(3,3), strides=1, padding='same', activation='relu')\n",
    "\n",
    "        self.conv5 = keras.layers.Conv2D(filters=256, kernel_size=(3,3), strides=1, padding='same', activation='relu')\n",
    "        self.max_pool3 = keras.layers.MaxPool2D(pool_size=(3,3),strides=2,padding='valid')\n",
    "\n",
    "        self.flatten = keras.layers.Flatten()\n",
    "        self.d1 = keras.layers.Dense(units=2048,activation='relu')\n",
    "        self.dropout1 = keras.layers.Dropout(0.5)\n",
    "        self.d2 = keras.layers.Dense(units=2048, activation='relu')\n",
    "        self.dropout2= keras.layers.Dropout(0.5)\n",
    "        self.d3 = keras.layers.Dense(units=10, activation='softmax')\n",
    "\n",
    "    def call(self, inputs, training=None, mask=None):\n",
    "        # inputs [batch_size, height, width, channel] = [batch, 32, 32, 3]\n",
    "        x = self.conv1(inputs)\n",
    "        x = self.bn1(x)\n",
    "        x = self.act1(x)\n",
    "        # [batch_size, height, width, filter] = [batch_size, 30, 30, 96]\n",
    "        x = self.max_pool1(x)\n",
    "        # [batch_size, (height - pool_size) / stride + 1, (width - pool_size) / stride + 1, filter] = [batch_size, 14, 14, 96]\n",
    "\n",
    "\n",
    "        x = self.conv2(x)\n",
    "        x = self.bn2(x)\n",
    "        x = self.act2(x)\n",
    "        # [batch_size, 12, 12, 256]\n",
    "        x = self.max_pool2(x)\n",
    "        # [batch_size, 5, 5, 256]\n",
    "\n",
    "        x = self.conv3(x)\n",
    "        # [batch_size, 5, 5, 256]\n",
    "\n",
    "        x = self.conv4(x)\n",
    "        # [batch_size, 5, 5, 256]\n",
    "\n",
    "        x = self.conv5(x)\n",
    "        # [batch_size, 5, 5, 256]\n",
    "        x = self.max_pool3(x)\n",
    "        # [batch_size, 2, 2, 256]\n",
    "\n",
    "        x = self.flatten(x)\n",
    "        x = self.d1(x)\n",
    "        x = self.dropout1(x)\n",
    "        # [batch_size, 2048]\n",
    "        x = self.d2(x)\n",
    "        x = self.dropout2(x)\n",
    "        # 【batch_size, 2048]\n",
    "        y = self.d3(x)\n",
    "        return y"
   ],
   "metadata": {
    "collapsed": false,
    "pycharm": {
     "name": "#%%\n"
    }
   }
  },
  {
   "cell_type": "code",
   "execution_count": 32,
   "outputs": [],
   "source": [
    "alexNet = AlexNetModel()"
   ],
   "metadata": {
    "collapsed": false,
    "pycharm": {
     "name": "#%%\n"
    }
   }
  },
  {
   "cell_type": "code",
   "execution_count": 33,
   "outputs": [],
   "source": [
    "alexNet.compile(\n",
    "    optimizer=keras.optimizers.Adam(),\n",
    "    loss = keras.losses.SparseCategoricalCrossentropy(from_logits=False),\n",
    "    metrics=['sparse_categorical_accuracy']\n",
    ")"
   ],
   "metadata": {
    "collapsed": false,
    "pycharm": {
     "name": "#%%\n"
    }
   }
  },
  {
   "cell_type": "code",
   "execution_count": 34,
   "outputs": [],
   "source": [
    "checkpoint_save_path_alexnet = 'tensorflow_study/chapter5/model_dir/simple_model/alexnet_{epoch:02d}-{val_loss:.2f}.ckpt'\n",
    "\n",
    "cp_callback_alexnet = keras.callbacks.ModelCheckpoint(\n",
    "    filepath=checkpoint_save_path_alexnet,\n",
    "    save_weights_only=True,\n",
    "    save_best_only=True,\n",
    "    monitor='val_loss',\n",
    ")"
   ],
   "metadata": {
    "collapsed": false,
    "pycharm": {
     "name": "#%%\n"
    }
   }
  },
  {
   "cell_type": "code",
   "execution_count": 35,
   "outputs": [
    {
     "name": "stdout",
     "output_type": "stream",
     "text": [
      "Epoch 1/20\n",
      "196/196 [==============================] - 7s 34ms/step - loss: 1.6776 - sparse_categorical_accuracy: 0.3789 - val_loss: 4.9303 - val_sparse_categorical_accuracy: 0.1008\n",
      "Epoch 2/20\n",
      "196/196 [==============================] - 4s 19ms/step - loss: 1.1903 - sparse_categorical_accuracy: 0.5745 - val_loss: 3.6366 - val_sparse_categorical_accuracy: 0.1922\n",
      "Epoch 3/20\n",
      "196/196 [==============================] - 4s 19ms/step - loss: 0.9922 - sparse_categorical_accuracy: 0.6509 - val_loss: 1.4674 - val_sparse_categorical_accuracy: 0.5209\n",
      "Epoch 4/20\n",
      "196/196 [==============================] - 3s 18ms/step - loss: 0.8664 - sparse_categorical_accuracy: 0.6994 - val_loss: 1.5129 - val_sparse_categorical_accuracy: 0.5154\n",
      "Epoch 5/20\n",
      "196/196 [==============================] - 4s 19ms/step - loss: 0.7769 - sparse_categorical_accuracy: 0.7317 - val_loss: 1.2860 - val_sparse_categorical_accuracy: 0.6069\n",
      "Epoch 6/20\n",
      "196/196 [==============================] - 4s 19ms/step - loss: 0.7055 - sparse_categorical_accuracy: 0.7564 - val_loss: 0.9578 - val_sparse_categorical_accuracy: 0.6714\n",
      "Epoch 7/20\n",
      "196/196 [==============================] - 4s 18ms/step - loss: 0.6461 - sparse_categorical_accuracy: 0.7762 - val_loss: 0.9932 - val_sparse_categorical_accuracy: 0.6808\n",
      "Epoch 8/20\n",
      "196/196 [==============================] - 4s 19ms/step - loss: 0.5921 - sparse_categorical_accuracy: 0.7956 - val_loss: 0.9186 - val_sparse_categorical_accuracy: 0.6921\n",
      "Epoch 9/20\n",
      "196/196 [==============================] - 3s 17ms/step - loss: 0.5374 - sparse_categorical_accuracy: 0.8124 - val_loss: 0.9949 - val_sparse_categorical_accuracy: 0.6867\n",
      "Epoch 10/20\n",
      "196/196 [==============================] - 3s 17ms/step - loss: 0.4986 - sparse_categorical_accuracy: 0.8275 - val_loss: 1.1043 - val_sparse_categorical_accuracy: 0.6673\n",
      "Epoch 11/20\n",
      "196/196 [==============================] - 3s 17ms/step - loss: 0.4604 - sparse_categorical_accuracy: 0.8404 - val_loss: 1.6082 - val_sparse_categorical_accuracy: 0.5815\n",
      "Epoch 12/20\n",
      "196/196 [==============================] - 3s 18ms/step - loss: 0.4117 - sparse_categorical_accuracy: 0.8559 - val_loss: 1.0949 - val_sparse_categorical_accuracy: 0.6849\n",
      "Epoch 13/20\n",
      "196/196 [==============================] - 4s 19ms/step - loss: 0.3767 - sparse_categorical_accuracy: 0.8679 - val_loss: 0.8824 - val_sparse_categorical_accuracy: 0.7236\n",
      "Epoch 14/20\n",
      "196/196 [==============================] - 3s 17ms/step - loss: 0.3391 - sparse_categorical_accuracy: 0.8802 - val_loss: 0.8893 - val_sparse_categorical_accuracy: 0.7279\n",
      "Epoch 15/20\n",
      "196/196 [==============================] - 3s 17ms/step - loss: 0.3183 - sparse_categorical_accuracy: 0.8882 - val_loss: 0.9659 - val_sparse_categorical_accuracy: 0.7208\n",
      "Epoch 16/20\n",
      "196/196 [==============================] - 3s 17ms/step - loss: 0.2839 - sparse_categorical_accuracy: 0.9009 - val_loss: 1.1001 - val_sparse_categorical_accuracy: 0.7144\n",
      "Epoch 17/20\n",
      "196/196 [==============================] - 3s 17ms/step - loss: 0.2621 - sparse_categorical_accuracy: 0.9086 - val_loss: 1.2843 - val_sparse_categorical_accuracy: 0.6974\n",
      "Epoch 18/20\n",
      "196/196 [==============================] - 3s 17ms/step - loss: 0.2577 - sparse_categorical_accuracy: 0.9097 - val_loss: 1.1664 - val_sparse_categorical_accuracy: 0.7160\n",
      "Epoch 19/20\n",
      "196/196 [==============================] - 4s 18ms/step - loss: 0.2270 - sparse_categorical_accuracy: 0.9229 - val_loss: 1.0812 - val_sparse_categorical_accuracy: 0.7271\n",
      "Epoch 20/20\n",
      "196/196 [==============================] - 3s 17ms/step - loss: 0.2107 - sparse_categorical_accuracy: 0.9285 - val_loss: 1.0890 - val_sparse_categorical_accuracy: 0.7444\n"
     ]
    }
   ],
   "source": [
    "history_alex = alexNet.fit(x_train, y_train,batch_size=256,epochs=20,validation_data=(x_test, y_test), validation_freq=1, callbacks=[cp_callback_alexnet])"
   ],
   "metadata": {
    "collapsed": false,
    "pycharm": {
     "name": "#%%\n"
    }
   }
  },
  {
   "cell_type": "code",
   "execution_count": 53,
   "outputs": [
    {
     "name": "stdout",
     "output_type": "stream",
     "text": [
      "Model: \"alex_net_model_4\"\n",
      "_________________________________________________________________\n",
      " Layer (type)                Output Shape              Param #   \n",
      "=================================================================\n",
      " conv2d_18 (Conv2D)          multiple                  2688      \n",
      "                                                                 \n",
      " batch_normalization_7 (Batc  multiple                 384       \n",
      " hNormalization)                                                 \n",
      "                                                                 \n",
      " re_lu_6 (ReLU)              multiple                  0         \n",
      "                                                                 \n",
      " max_pooling2d_11 (MaxPoolin  multiple                 0         \n",
      " g2D)                                                            \n",
      "                                                                 \n",
      " conv2d_19 (Conv2D)          multiple                  221440    \n",
      "                                                                 \n",
      " batch_normalization_8 (Batc  multiple                 1024      \n",
      " hNormalization)                                                 \n",
      "                                                                 \n",
      " re_lu_7 (ReLU)              multiple                  0         \n",
      "                                                                 \n",
      " max_pooling2d_12 (MaxPoolin  multiple                 0         \n",
      " g2D)                                                            \n",
      "                                                                 \n",
      " conv2d_20 (Conv2D)          multiple                  885120    \n",
      "                                                                 \n",
      " conv2d_21 (Conv2D)          multiple                  1327488   \n",
      "                                                                 \n",
      " conv2d_22 (Conv2D)          multiple                  884992    \n",
      "                                                                 \n",
      " max_pooling2d_13 (MaxPoolin  multiple                 0         \n",
      " g2D)                                                            \n",
      "                                                                 \n",
      " flatten_4 (Flatten)         multiple                  0         \n",
      "                                                                 \n",
      " dense_12 (Dense)            multiple                  2099200   \n",
      "                                                                 \n",
      " dropout_6 (Dropout)         multiple                  0         \n",
      "                                                                 \n",
      " dense_13 (Dense)            multiple                  4196352   \n",
      "                                                                 \n",
      " dropout_7 (Dropout)         multiple                  0         \n",
      "                                                                 \n",
      " dense_14 (Dense)            multiple                  20490     \n",
      "                                                                 \n",
      "=================================================================\n",
      "Total params: 9,639,178\n",
      "Trainable params: 9,638,474\n",
      "Non-trainable params: 704\n",
      "_________________________________________________________________\n"
     ]
    }
   ],
   "source": [
    "alexNet.summary()"
   ],
   "metadata": {
    "collapsed": false,
    "pycharm": {
     "name": "#%%\n"
    }
   }
  },
  {
   "cell_type": "code",
   "execution_count": 36,
   "outputs": [],
   "source": [
    "acc_alex = history_alex.history['sparse_categorical_accuracy']\n",
    "val_acc_alex = history_alex.history['val_sparse_categorical_accuracy']\n",
    "loss_alex = history_alex.history['loss']\n",
    "val_loss_alex = history_alex.history['val_loss']"
   ],
   "metadata": {
    "collapsed": false,
    "pycharm": {
     "name": "#%%\n"
    }
   }
  },
  {
   "cell_type": "code",
   "execution_count": 37,
   "outputs": [
    {
     "data": {
      "text/plain": "<Figure size 432x288 with 2 Axes>",
      "image/png": "[encoded data removed]"
     },
     "metadata": {
      "needs_background": "light"
     },
     "output_type": "display_data"
    }
   ],
   "source": [
    "plt.subplot(1,2,1)\n",
    "plt.plot(acc_alex, label = 'Train Accuracy')\n",
    "plt.plot(val_acc_alex, label = 'Valid Accuracy')\n",
    "plt.title('AlexNet Train and Valid Accuracy')\n",
    "plt.legend()\n",
    "\n",
    "plt.subplot(1,2,2)\n",
    "plt.plot(loss_alex, label = 'Train Loss')\n",
    "plt.plot(val_loss_alex, label = 'Valid Loss')\n",
    "plt.title('AlexNet Train and Valid Loss')\n",
    "plt.legend()\n",
    "plt.show()"
   ],
   "metadata": {
    "collapsed": false,
    "pycharm": {
     "name": "#%%\n"
    }
   }
  },
  {
   "cell_type": "markdown",
   "source": [
    "# InceptionNet"
   ],
   "metadata": {
    "collapsed": false,
    "pycharm": {
     "name": "#%% md\n"
    }
   }
  },
  {
   "cell_type": "code",
   "execution_count": 40,
   "outputs": [],
   "source": [
    "class ConvBNRelu(Model):\n",
    "    def __init__(self, filters, kernel_size, stride, padding_mode):\n",
    "        super(ConvBNRelu, self).__init__()\n",
    "        self.model = keras.models.Sequential([\n",
    "            keras.layers.Conv2D(filters=filters, kernel_size=kernel_size, strides=stride, padding=padding_mode),\n",
    "            keras.layers.BatchNormalization(),\n",
    "            keras.layers.Activation('relu'),\n",
    "        ])\n",
    "    def call(self, inputs, training=None, mask=None):\n",
    "        x = self.model(inputs)\n",
    "        return x"
   ],
   "metadata": {
    "collapsed": false,
    "pycharm": {
     "name": "#%%\n"
    }
   }
  },
  {
   "cell_type": "code",
   "execution_count": 42,
   "outputs": [],
   "source": [
    "class InceptionBlock(Model):\n",
    "    def __init__(self, filters, stride):\n",
    "        super(InceptionBlock, self).__init__()\n",
    "        self.filters = filters # 所有conv的filter个数\n",
    "        self.stride = stride # 四个1*1卷积核的步长\n",
    "\n",
    "        self.Inception1 = ConvBNRelu(filters=self.filters, kernel_size = (1,1), stride=self.stride, padding_mode='same')\n",
    "        self.Inception2 = keras.models.Sequential([\n",
    "            ConvBNRelu(filters=self.filters, kernel_size=(1,1), stride=self.stride, padding_mode='same'),\n",
    "            ConvBNRelu(filters=self.filters, kernel_size=(3,3), stride=1, padding_mode='same'),\n",
    "        ])\n",
    "        self.Inception3 = keras.models.Sequential([\n",
    "            ConvBNRelu(filters=self.filters, kernel_size=(1,1), stride=self.stride, padding_mode='same'),\n",
    "            ConvBNRelu(filters=self.filters, kernel_size=(5,5), stride=1, padding_mode='same'),\n",
    "        ])\n",
    "        self.Inception4 = keras.models.Sequential([\n",
    "            keras.layers.MaxPool2D(pool_size=(3,3), strides=1, padding='same'),\n",
    "            ConvBNRelu(filters=self.filters, kernel_size=(1,1), stride=stride, padding_mode='same')\n",
    "        ])\n",
    "\n",
    "    def call(self, inputs, training=None, mask=None):\n",
    "        # inputs [batch, height, width, channel]\n",
    "        x1 = self.Inception1(inputs)\n",
    "        x2 = self.Inception2(inputs)\n",
    "        x3 = self.Inception3(inputs)\n",
    "        x4 = self.Inception4(inputs)\n",
    "        # x1, x2, x3, x4前三维维度相同 最后一维是各自的filter个数 [batch, height', width', filter_size_n]\n",
    "        y = tf.concat([x1,x2,x3,x4], axis=3)\n",
    "        # 在最后一维即axis=3的维度上进行拼接\n",
    "        # y [batch, height', width', all_filter_sum]\n",
    "        return y"
   ],
   "metadata": {
    "collapsed": false,
    "pycharm": {
     "name": "#%%\n"
    }
   }
  },
  {
   "cell_type": "code",
   "execution_count": 44,
   "outputs": [],
   "source": [
    "class InceptionNet(Model):\n",
    "    def __init__(self, num_blocks, filters, classes):\n",
    "        super(InceptionNet, self).__init__()\n",
    "        self.num_blocks = num_blocks\n",
    "        self.filters = filters\n",
    "        self.classes = classes\n",
    "        self.conv1 = ConvBNRelu(filters=self.filters, kernel_size=(3,3), stride=1, padding_mode='same')\n",
    "        self.blocks = keras.models.Sequential()\n",
    "\n",
    "\n",
    "        for block_id in range(num_blocks):\n",
    "            for layer_id in range(2):\n",
    "                if layer_id == 0:\n",
    "                    each_block = InceptionBlock(filters=self.filters, stride=2)\n",
    "                else:\n",
    "                    each_block = InceptionBlock(filters=self.filters, stride=1)\n",
    "                self.blocks.add(each_block)\n",
    "            self.filters = self.filters * 2\n",
    "            # 经过一个stride=2的conv层之后 height和width变为一半 为了保证特征提取效果 将filter个数乘以二\n",
    "        self.avg_pool = keras.layers.GlobalAveragePooling2D()\n",
    "        self.output_proj = keras.layers.Dense(self.classes, activation='softmax')\n",
    "\n",
    "    def call(self, inputs, training=None, mask=None):\n",
    "        # inputs [batch, height, width, channel]\n",
    "        x = self.conv1(inputs)\n",
    "        # [batch, height, width, filters]\n",
    "\n",
    "        x = self.blocks(x)\n",
    "        # [batch, height, width, all_filters]\n",
    "        x = self.avg_pool(x)\n",
    "        # [batch, all_filters]\n",
    "        y = self.output_proj(x)\n",
    "        # [batch, classes]\n",
    "        return y"
   ],
   "metadata": {
    "collapsed": false,
    "pycharm": {
     "name": "#%%\n"
    }
   }
  },
  {
   "cell_type": "code",
   "execution_count": 45,
   "outputs": [],
   "source": [
    "InceptionModel = InceptionNet(num_blocks=2, filters=16, classes=10)"
   ],
   "metadata": {
    "collapsed": false,
    "pycharm": {
     "name": "#%%\n"
    }
   }
  },
  {
   "cell_type": "code",
   "execution_count": 46,
   "outputs": [],
   "source": [
    "InceptionModel.compile(\n",
    "    optimizer=keras.optimizers.Adam(),\n",
    "    loss=keras.losses.SparseCategoricalCrossentropy(),\n",
    "    metrics=['sparse_categorical_accuracy']\n",
    ")"
   ],
   "metadata": {
    "collapsed": false,
    "pycharm": {
     "name": "#%%\n"
    }
   }
  },
  {
   "cell_type": "code",
   "execution_count": 47,
   "outputs": [],
   "source": [
    "checkpoint_save_path_inceptionnet = 'tensorflow_study/chapter5/model_dir/simple_model/inceptionnet_{epoch:02d}-{val_loss:.2f}.ckpt'\n",
    "\n",
    "cp_callback_inceptionnet = keras.callbacks.ModelCheckpoint(\n",
    "    filepath=checkpoint_save_path_inceptionnet,\n",
    "    save_weights_only=True,\n",
    "    save_best_only=True,\n",
    "    monitor='val_loss',\n",
    ")"
   ],
   "metadata": {
    "collapsed": false,
    "pycharm": {
     "name": "#%%\n"
    }
   }
  },
  {
   "cell_type": "code",
   "execution_count": 49,
   "outputs": [
    {
     "name": "stdout",
     "output_type": "stream",
     "text": [
      "Epoch 1/20\n",
      "196/196 [==============================] - 4s 23ms/step - loss: 1.1565 - sparse_categorical_accuracy: 0.5904 - val_loss: 2.0238 - val_sparse_categorical_accuracy: 0.3484\n",
      "Epoch 2/20\n",
      "196/196 [==============================] - 4s 22ms/step - loss: 0.9951 - sparse_categorical_accuracy: 0.6462 - val_loss: 1.2653 - val_sparse_categorical_accuracy: 0.5461\n",
      "Epoch 3/20\n",
      "196/196 [==============================] - 4s 23ms/step - loss: 0.8918 - sparse_categorical_accuracy: 0.6839 - val_loss: 1.1321 - val_sparse_categorical_accuracy: 0.6046\n",
      "Epoch 4/20\n",
      "196/196 [==============================] - 4s 22ms/step - loss: 0.8192 - sparse_categorical_accuracy: 0.7120 - val_loss: 1.4572 - val_sparse_categorical_accuracy: 0.5296\n",
      "Epoch 5/20\n",
      "196/196 [==============================] - 4s 22ms/step - loss: 0.7606 - sparse_categorical_accuracy: 0.7314 - val_loss: 0.9918 - val_sparse_categorical_accuracy: 0.6471\n",
      "Epoch 6/20\n",
      "196/196 [==============================] - 4s 21ms/step - loss: 0.7151 - sparse_categorical_accuracy: 0.7476 - val_loss: 1.2716 - val_sparse_categorical_accuracy: 0.5916\n",
      "Epoch 7/20\n",
      "196/196 [==============================] - 4s 21ms/step - loss: 0.6721 - sparse_categorical_accuracy: 0.7636 - val_loss: 1.0131 - val_sparse_categorical_accuracy: 0.6458\n",
      "Epoch 8/20\n",
      "196/196 [==============================] - 4s 21ms/step - loss: 0.6331 - sparse_categorical_accuracy: 0.7775 - val_loss: 1.0474 - val_sparse_categorical_accuracy: 0.6450\n",
      "Epoch 9/20\n",
      "196/196 [==============================] - 5s 23ms/step - loss: 0.6014 - sparse_categorical_accuracy: 0.7899 - val_loss: 0.9548 - val_sparse_categorical_accuracy: 0.6762\n",
      "Epoch 10/20\n",
      "196/196 [==============================] - 4s 22ms/step - loss: 0.5709 - sparse_categorical_accuracy: 0.7989 - val_loss: 0.9095 - val_sparse_categorical_accuracy: 0.6990\n",
      "Epoch 11/20\n",
      "196/196 [==============================] - 4s 21ms/step - loss: 0.5412 - sparse_categorical_accuracy: 0.8104 - val_loss: 1.0294 - val_sparse_categorical_accuracy: 0.6610\n",
      "Epoch 12/20\n",
      "196/196 [==============================] - 4s 22ms/step - loss: 0.5118 - sparse_categorical_accuracy: 0.8227 - val_loss: 0.9060 - val_sparse_categorical_accuracy: 0.6980\n",
      "Epoch 13/20\n",
      "196/196 [==============================] - 4s 22ms/step - loss: 0.4854 - sparse_categorical_accuracy: 0.8303 - val_loss: 1.0916 - val_sparse_categorical_accuracy: 0.6711\n",
      "Epoch 14/20\n",
      "196/196 [==============================] - 4s 22ms/step - loss: 0.4649 - sparse_categorical_accuracy: 0.8387 - val_loss: 1.1001 - val_sparse_categorical_accuracy: 0.6615\n",
      "Epoch 15/20\n",
      "196/196 [==============================] - 4s 22ms/step - loss: 0.4444 - sparse_categorical_accuracy: 0.8466 - val_loss: 1.0472 - val_sparse_categorical_accuracy: 0.6782\n",
      "Epoch 16/20\n",
      "196/196 [==============================] - 4s 22ms/step - loss: 0.4277 - sparse_categorical_accuracy: 0.8520 - val_loss: 0.9962 - val_sparse_categorical_accuracy: 0.6916\n",
      "Epoch 17/20\n",
      "196/196 [==============================] - 4s 21ms/step - loss: 0.4081 - sparse_categorical_accuracy: 0.8579 - val_loss: 1.0363 - val_sparse_categorical_accuracy: 0.6823\n",
      "Epoch 18/20\n",
      "196/196 [==============================] - 4s 21ms/step - loss: 0.3855 - sparse_categorical_accuracy: 0.8664 - val_loss: 1.1720 - val_sparse_categorical_accuracy: 0.6617\n",
      "Epoch 19/20\n",
      "196/196 [==============================] - 4s 22ms/step - loss: 0.3723 - sparse_categorical_accuracy: 0.8699 - val_loss: 1.0476 - val_sparse_categorical_accuracy: 0.6883\n",
      "Epoch 20/20\n",
      "196/196 [==============================] - 4s 22ms/step - loss: 0.3518 - sparse_categorical_accuracy: 0.8781 - val_loss: 1.1032 - val_sparse_categorical_accuracy: 0.6847\n"
     ]
    }
   ],
   "source": [
    "history_inception = InceptionModel.fit(x_train, y_train,batch_size=256,epochs=20,validation_data=(x_test, y_test), validation_freq=1, callbacks=[cp_callback_inceptionnet])"
   ],
   "metadata": {
    "collapsed": false,
    "pycharm": {
     "name": "#%%\n"
    }
   }
  },
  {
   "cell_type": "code",
   "execution_count": 52,
   "outputs": [
    {
     "name": "stdout",
     "output_type": "stream",
     "text": [
      "Model: \"inception_net\"\n",
      "_________________________________________________________________\n",
      " Layer (type)                Output Shape              Param #   \n",
      "=================================================================\n",
      " conv_bn_relu (ConvBNRelu)   multiple                  512       \n",
      "                                                                 \n",
      " sequential_1 (Sequential)   (None, 8, 8, 64)          50048     \n",
      "                                                                 \n",
      " global_average_pooling2d (G  multiple                 0         \n",
      " lobalAveragePooling2D)                                          \n",
      "                                                                 \n",
      " dense_15 (Dense)            multiple                  650       \n",
      "                                                                 \n",
      "=================================================================\n",
      "Total params: 51,210\n",
      "Trainable params: 50,410\n",
      "Non-trainable params: 800\n",
      "_________________________________________________________________\n"
     ]
    }
   ],
   "source": [
    "InceptionModel.summary()"
   ],
   "metadata": {
    "collapsed": false,
    "pycharm": {
     "name": "#%%\n"
    }
   }
  },
  {
   "cell_type": "code",
   "execution_count": 50,
   "outputs": [],
   "source": [
    "acc_inception = history_inception.history['sparse_categorical_accuracy']\n",
    "val_acc_inception = history_inception.history['val_sparse_categorical_accuracy']\n",
    "loss_inception = history_inception.history['loss']\n",
    "val_loss_inception = history_inception.history['val_loss']"
   ],
   "metadata": {
    "collapsed": false,
    "pycharm": {
     "name": "#%%\n"
    }
   }
  },
  {
   "cell_type": "code",
   "execution_count": 51,
   "outputs": [
    {
     "data": {
      "text/plain": "<Figure size 432x288 with 2 Axes>",
      "image/png": "[encoded data removed]"
     },
     "metadata": {
      "needs_background": "light"
     },
     "output_type": "display_data"
    }
   ],
   "source": [
    "plt.subplot(1,2,1)\n",
    "plt.plot(acc_inception, label = 'Train Accuracy')\n",
    "plt.plot(val_acc_inception, label = 'Valid Accuracy')\n",
    "plt.title('InceptionNet Train and Valid Accuracy')\n",
    "plt.legend()\n",
    "\n",
    "plt.subplot(1,2,2)\n",
    "plt.plot(loss_inception, label = 'Train Loss')\n",
    "plt.plot(val_loss_inception, label = 'Valid Loss')\n",
    "plt.title('InceptionNet Train and Valid Loss')\n",
    "plt.legend()\n",
    "plt.show()"
   ],
   "metadata": {
    "collapsed": false,
    "pycharm": {
     "name": "#%%\n"
    }
   }
  },
  {
   "cell_type": "markdown",
   "source": [
    "# ResNet"
   ],
   "metadata": {
    "collapsed": false,
    "pycharm": {
     "name": "#%% md\n"
    }
   }
  },
  {
   "cell_type": "code",
   "execution_count": 71,
   "outputs": [],
   "source": [
    "class ResNetBlock(Model):\n",
    "    def __init__(self, filter1, filter2, strides, residual):\n",
    "        super(ResNetBlock, self).__init__()\n",
    "        self.filter1 = filter1\n",
    "        self.filter2 = filter2\n",
    "        self.strides = strides\n",
    "        self.residual = residual\n",
    "\n",
    "        self.basic_layer = keras.models.Sequential([\n",
    "            keras.layers.Conv2D(filters=self.filter1, kernel_size=(3,3), strides=self.strides, padding='same', use_bias=False),\n",
    "            # 第一个conv步长stride\n",
    "            keras.layers.BatchNormalization(),\n",
    "            keras.layers.Activation('relu'),\n",
    "            keras.layers.Conv2D(filters=self.filter2, kernel_size=(3,3), strides=1, padding='same', use_bias=False),\n",
    "            keras.layers.BatchNormalization()\n",
    "        ])\n",
    "        if self.residual:\n",
    "            self.down_c = keras.layers.Conv2D(filters=self.filter2, kernel_size=(1,1), strides=self.strides, padding='same', use_bias=False)\n",
    "            self.down_b = keras.layers.BatchNormalization()\n",
    "            # 残差conv步长也是stride\n",
    "\n",
    "        self.act = keras.layers.Activation('relu')\n",
    "\n",
    "    def call(self, inputs, training=None, mask=None):\n",
    "        # inputs [batch, height, width, channel]\n",
    "        residual = inputs\n",
    "        x = self.basic_layer(inputs)\n",
    "        # x [batch, height/self.strides, width/self.strides, self.filter2]\n",
    "        if self.residual:\n",
    "            residual = self.down_c(inputs)\n",
    "            residual = self.down_b(residual)\n",
    "            # residual [batch, height / self.strides, width/self.strides, self.filter2]\n",
    "\n",
    "        y = self.act(x + residual)\n",
    "        # x和residual 维度相同直接相加\n",
    "        return y"
   ],
   "metadata": {
    "collapsed": false,
    "pycharm": {
     "name": "#%%\n"
    }
   }
  },
  {
   "cell_type": "code",
   "execution_count": 72,
   "outputs": [],
   "source": [
    "class ResNetModel(Model):\n",
    "    def __init__(self, block_num_list, initial_filters = 64):\n",
    "        super(ResNetModel, self).__init__()\n",
    "        self.block_num_list = block_num_list\n",
    "        self.block_num = len(self.block_num_list)\n",
    "        self.initial_filters = initial_filters\n",
    "        self.out_filters = self.initial_filters\n",
    "        self.c1 = keras.layers.Conv2D(filters=self.initial_filters, kernel_size=(3,3), strides=1, padding='same', use_bias=False)\n",
    "        self.b1 = keras.layers.BatchNormalization()\n",
    "        self.act1 = keras.layers.Activation('relu')\n",
    "\n",
    "        self.blocks = keras.models.Sequential()\n",
    "        for block_id in range(self.block_num):\n",
    "            for layer_id in range(block_num_list[block_id]):\n",
    "                if block_id != 0 and layer_id == 0:\n",
    "                    block = ResNetBlock(filter1=self.initial_filters, filter2=self.initial_filters, strides=2, residual=True)\n",
    "                    # 不是第一个block的所有block的第一个layer是 维度不同的残差 strides = 2 residual = True\n",
    "                else:\n",
    "                    block = ResNetBlock(filter1=self.initial_filters, filter2=self.initial_filters, strides=1, residual=False)\n",
    "                    # 第一个block的两个layer和其他所有block的第二个layer都是维度相同的直接残差 strides = 1 residual = False\n",
    "                self.blocks.add(block)\n",
    "            self.initial_filters = self.initial_filters * 2\n",
    "            # 滤波器维度变为两倍\n",
    "        self.global_pool = keras.layers.GlobalAveragePooling2D()\n",
    "        self.output_proj = keras.layers.Dense(units=10,activation='softmax')\n",
    "\n",
    "    def call(self, inputs, training=None, mask=None):\n",
    "        x = self.c1(inputs)\n",
    "        x = self.b1(x)\n",
    "        x = self.act1(x)\n",
    "\n",
    "        x = self.blocks(x)\n",
    "        x = self.global_pool(x)\n",
    "\n",
    "        y = self.output_proj(x)\n",
    "        return y"
   ],
   "metadata": {
    "collapsed": false,
    "pycharm": {
     "name": "#%%\n"
    }
   }
  },
  {
   "cell_type": "code",
   "execution_count": 73,
   "outputs": [],
   "source": [
    "resNet18 = ResNetModel(block_num_list=[2,2,2,2],initial_filters=64)"
   ],
   "metadata": {
    "collapsed": false,
    "pycharm": {
     "name": "#%%\n"
    }
   }
  },
  {
   "cell_type": "code",
   "execution_count": 74,
   "outputs": [],
   "source": [
    "resNet18.compile(\n",
    "    optimizer=keras.optimizers.Adam(),\n",
    "    loss=keras.losses.SparseCategoricalCrossentropy(),\n",
    "    metrics=['sparse_categorical_accuracy']\n",
    ")"
   ],
   "metadata": {
    "collapsed": false,
    "pycharm": {
     "name": "#%%\n"
    }
   }
  },
  {
   "cell_type": "code",
   "execution_count": 75,
   "outputs": [],
   "source": [
    "checkpoint_save_path_resnet = 'tensorflow_study/chapter5/model_dir/simple_model/resnet_{epoch:02d}-{val_loss:.2f}.ckpt'\n",
    "\n",
    "cp_callback_resnet = keras.callbacks.ModelCheckpoint(\n",
    "    filepath=checkpoint_save_path_resnet,\n",
    "    save_weights_only=True,\n",
    "    save_best_only=True,\n",
    "    monitor='val_loss',\n",
    ")"
   ],
   "metadata": {
    "collapsed": false,
    "pycharm": {
     "name": "#%%\n"
    }
   }
  },
  {
   "cell_type": "code",
   "execution_count": 76,
   "outputs": [
    {
     "name": "stdout",
     "output_type": "stream",
     "text": [
      "Epoch 1/20\n",
      "196/196 [==============================] - 5s 26ms/step - loss: 0.3428 - sparse_categorical_accuracy: 0.8806 - val_loss: 1.0670 - val_sparse_categorical_accuracy: 0.6907\n",
      "Epoch 2/20\n",
      "196/196 [==============================] - 4s 23ms/step - loss: 0.3264 - sparse_categorical_accuracy: 0.8864 - val_loss: 1.3307 - val_sparse_categorical_accuracy: 0.6502\n",
      "Epoch 3/20\n",
      "196/196 [==============================] - 4s 22ms/step - loss: 0.3163 - sparse_categorical_accuracy: 0.8906 - val_loss: 1.3203 - val_sparse_categorical_accuracy: 0.6401\n",
      "Epoch 4/20\n",
      "196/196 [==============================] - 5s 23ms/step - loss: 0.3001 - sparse_categorical_accuracy: 0.8958 - val_loss: 1.0774 - val_sparse_categorical_accuracy: 0.6999\n",
      "Epoch 5/20\n",
      "196/196 [==============================] - 5s 23ms/step - loss: 0.2866 - sparse_categorical_accuracy: 0.9017 - val_loss: 1.0711 - val_sparse_categorical_accuracy: 0.7050\n",
      "Epoch 6/20\n",
      "196/196 [==============================] - 5s 24ms/step - loss: 0.2769 - sparse_categorical_accuracy: 0.9042 - val_loss: 1.4378 - val_sparse_categorical_accuracy: 0.6496\n",
      "Epoch 7/20\n",
      "196/196 [==============================] - 5s 24ms/step - loss: 0.2680 - sparse_categorical_accuracy: 0.9083 - val_loss: 1.3498 - val_sparse_categorical_accuracy: 0.6709\n",
      "Epoch 8/20\n",
      "196/196 [==============================] - 5s 23ms/step - loss: 0.2499 - sparse_categorical_accuracy: 0.9145 - val_loss: 1.3310 - val_sparse_categorical_accuracy: 0.6811\n",
      "Epoch 9/20\n",
      "196/196 [==============================] - 5s 23ms/step - loss: 0.2450 - sparse_categorical_accuracy: 0.9153 - val_loss: 1.0883 - val_sparse_categorical_accuracy: 0.7109\n",
      "Epoch 10/20\n",
      "196/196 [==============================] - 5s 23ms/step - loss: 0.2359 - sparse_categorical_accuracy: 0.9193 - val_loss: 1.3430 - val_sparse_categorical_accuracy: 0.6776\n",
      "Epoch 11/20\n",
      "196/196 [==============================] - 4s 22ms/step - loss: 0.2213 - sparse_categorical_accuracy: 0.9239 - val_loss: 1.2165 - val_sparse_categorical_accuracy: 0.6893\n",
      "Epoch 12/20\n",
      "196/196 [==============================] - 4s 22ms/step - loss: 0.2147 - sparse_categorical_accuracy: 0.9265 - val_loss: 1.3584 - val_sparse_categorical_accuracy: 0.6809\n",
      "Epoch 13/20\n",
      "196/196 [==============================] - 5s 23ms/step - loss: 0.2090 - sparse_categorical_accuracy: 0.9288 - val_loss: 1.3669 - val_sparse_categorical_accuracy: 0.6876\n",
      "Epoch 14/20\n",
      "196/196 [==============================] - 4s 23ms/step - loss: 0.1988 - sparse_categorical_accuracy: 0.9307 - val_loss: 1.1862 - val_sparse_categorical_accuracy: 0.7124\n",
      "Epoch 15/20\n",
      "196/196 [==============================] - 5s 24ms/step - loss: 0.1889 - sparse_categorical_accuracy: 0.9361 - val_loss: 1.4627 - val_sparse_categorical_accuracy: 0.6782\n",
      "Epoch 16/20\n",
      "196/196 [==============================] - 5s 23ms/step - loss: 0.1868 - sparse_categorical_accuracy: 0.9360 - val_loss: 1.4614 - val_sparse_categorical_accuracy: 0.6810\n",
      "Epoch 17/20\n",
      "196/196 [==============================] - 4s 23ms/step - loss: 0.1854 - sparse_categorical_accuracy: 0.9363 - val_loss: 1.3359 - val_sparse_categorical_accuracy: 0.6837\n",
      "Epoch 18/20\n",
      "196/196 [==============================] - 4s 23ms/step - loss: 0.1718 - sparse_categorical_accuracy: 0.9413 - val_loss: 1.4918 - val_sparse_categorical_accuracy: 0.6791\n",
      "Epoch 19/20\n",
      "196/196 [==============================] - 5s 24ms/step - loss: 0.1670 - sparse_categorical_accuracy: 0.9438 - val_loss: 1.3546 - val_sparse_categorical_accuracy: 0.6966\n",
      "Epoch 20/20\n",
      "196/196 [==============================] - 4s 22ms/step - loss: 0.1628 - sparse_categorical_accuracy: 0.9438 - val_loss: 1.6705 - val_sparse_categorical_accuracy: 0.6759\n"
     ]
    }
   ],
   "source": [
    "history_resnet = InceptionModel.fit(x_train, y_train,batch_size=256,epochs=20,validation_data=(x_test, y_test), validation_freq=1, callbacks=[cp_callback_resnet])"
   ],
   "metadata": {
    "collapsed": false,
    "pycharm": {
     "name": "#%%\n"
    }
   }
  },
  {
   "cell_type": "code",
   "execution_count": 77,
   "outputs": [],
   "source": [
    "acc_resnet = history_resnet.history['sparse_categorical_accuracy']\n",
    "val_acc_resnet = history_resnet.history['val_sparse_categorical_accuracy']\n",
    "loss_resnet = history_resnet.history['loss']\n",
    "val_loss_resnet = history_resnet.history['val_loss']"
   ],
   "metadata": {
    "collapsed": false,
    "pycharm": {
     "name": "#%%\n"
    }
   }
  },
  {
   "cell_type": "code",
   "execution_count": 78,
   "outputs": [
    {
     "data": {
      "text/plain": "<Figure size 432x288 with 2 Axes>",
      "image/png": "[encoded data removed]"
     },
     "metadata": {
      "needs_background": "light"
     },
     "output_type": "display_data"
    }
   ],
   "source": [
    "plt.subplot(1,2,1)\n",
    "plt.plot(acc_resnet, label = 'Train Accuracy')\n",
    "plt.plot(val_acc_resnet, label = 'Valid Accuracy')\n",
    "plt.title('ResNet Train and Valid Accuracy')\n",
    "plt.legend()\n",
    "\n",
    "plt.subplot(1,2,2)\n",
    "plt.plot(loss_resnet, label = 'Train Loss')\n",
    "plt.plot(val_loss_resnet, label = 'Valid Loss')\n",
    "plt.title('ResNet Train and Valid Loss')\n",
    "plt.legend()\n",
    "plt.show()"
   ],
   "metadata": {
    "collapsed": false,
    "pycharm": {
     "name": "#%%\n"
    }
   }
  }
 ],
 "metadata": {
  "kernelspec": {
   "display_name": "Python 3",
   "language": "python",
   "name": "python3"
  },
  "language_info": {
   "codemirror_mode": {
    "name": "ipython",
    "version": 2
   },
   "file_extension": ".py",
   "mimetype": "text/x-python",
   "name": "python",
   "nbconvert_exporter": "python",
   "pygments_lexer": "ipython2",
   "version": "2.7.6"
  }
 },
 "nbformat": 4,
 "nbformat_minor": 0
}