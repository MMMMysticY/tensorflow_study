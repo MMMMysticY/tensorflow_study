{
 "cells": [
  {
   "cell_type": "markdown",
   "metadata": {
    "collapsed": true,
    "pycharm": {
     "name": "#%% md\n"
    }
   },
   "source": [
    "# 常用函数\n",
    "1. tf.where(条件语句, 真返回A, 假返回B)\n",
    "2. np.mgrid[] .ravel() np.c_[] 得到网格\n",
    "3. tf.reduce_mean(tf.square(y_ - y) MSE loss tf.nn.softmax_cross_entropy_with_logits 是softmax+ce\n",
    "4. l1正则化 l2 正则化 tf.nn.l2_loss(w) tf.reduce_sum(all_regularization) loss = loss_mse + loss_regularization\n",
    "5. SGD 随机梯度下降 w1.assign_sub(lr * grads) 直接减去梯度乘以学习率\n",
    "6."
   ]
  },
  {
   "cell_type": "code",
   "execution_count": 2,
   "outputs": [],
   "source": [
    "import tensorflow as tf\n",
    "from sklearn.datasets import load_iris\n",
    "import os\n",
    "import pandas as pd\n",
    "import numpy as np\n",
    "from sklearn.preprocessing import MinMaxScaler\n",
    "os.environ['CUDA_VISIBLE_DEVICES'] = '1' # 使用 GPU 1\n",
    "os.environ['TF_FORCE_GPU_ALLOW_GROWTH'] = 'true'"
   ],
   "metadata": {
    "collapsed": false,
    "pycharm": {
     "name": "#%%\n"
    }
   }
  },
  {
   "cell_type": "code",
   "execution_count": 3,
   "outputs": [],
   "source": [
    "physical_devices = tf.config.list_physical_devices(\"GPU\")\n",
    "tf.config.experimental.set_memory_growth(physical_devices[0],True)\n",
    "logical_devices = tf.config.list_logical_devices(\"GPU\")"
   ],
   "metadata": {
    "collapsed": false,
    "pycharm": {
     "name": "#%%\n"
    }
   }
  },
  {
   "cell_type": "code",
   "execution_count": 4,
   "outputs": [
    {
     "name": "stdout",
     "output_type": "stream",
     "text": [
      "tf.Tensor([1 2 3 4 5], shape=(5,), dtype=int32)\n"
     ]
    }
   ],
   "source": [
    "# tf.where(条件语句, 真返回A, 假返回B)\n",
    "a = tf.constant([1,2,3,1,1])\n",
    "b = tf.constant([0,1,3,4,5])\n",
    "c = tf.where(tf.greater(a,b), a, b) # 若a > b 则返回a 否则返回b\n",
    "print(c)"
   ],
   "metadata": {
    "collapsed": false,
    "pycharm": {
     "name": "#%%\n"
    }
   }
  },
  {
   "cell_type": "code",
   "execution_count": 5,
   "outputs": [
    {
     "name": "stdout",
     "output_type": "stream",
     "text": [
      "[[1. 1. 1. 1.]\n",
      " [2. 2. 2. 2.]]\n",
      "[[2.  2.5 3.  3.5]\n",
      " [2.  2.5 3.  3.5]]\n"
     ]
    }
   ],
   "source": [
    "# np.mgrid[] .ravel() np.c_ 得到网格\n",
    "x,y = np.mgrid[1:3:1, 2:4:0.5] # 起始值:结束值:步长 左闭右开\n",
    "print(x)\n",
    "print(y)"
   ],
   "metadata": {
    "collapsed": false,
    "pycharm": {
     "name": "#%%\n"
    }
   }
  },
  {
   "cell_type": "code",
   "execution_count": 7,
   "outputs": [
    {
     "name": "stdout",
     "output_type": "stream",
     "text": [
      "[1. 1. 1. 1. 2. 2. 2. 2.]\n",
      "[2.  2.5 3.  3.5 2.  2.5 3.  3.5]\n"
     ]
    }
   ],
   "source": [
    "print(x.ravel())\n",
    "print(y.ravel()) # flatten"
   ],
   "metadata": {
    "collapsed": false,
    "pycharm": {
     "name": "#%%\n"
    }
   }
  },
  {
   "cell_type": "code",
   "execution_count": 8,
   "outputs": [
    {
     "data": {
      "text/plain": "array([[1. , 2. ],\n       [1. , 2.5],\n       [1. , 3. ],\n       [1. , 3.5],\n       [2. , 2. ],\n       [2. , 2.5],\n       [2. , 3. ],\n       [2. , 3.5]])"
     },
     "execution_count": 8,
     "metadata": {},
     "output_type": "execute_result"
    }
   ],
   "source": [
    "grid = np.c_[x.ravel(), y.ravel()]\n",
    "grid"
   ],
   "metadata": {
    "collapsed": false,
    "pycharm": {
     "name": "#%%\n"
    }
   }
  },
  {
   "cell_type": "code",
   "execution_count": 13,
   "outputs": [],
   "source": [
    "# tf.reduce_mean(tf.square(y_ - y) MSE loss\n",
    "# tf.nn.softmax_cross_entropy_with_logits 是softmax+ce\n",
    "rdm = np.random.RandomState(seed=66)\n",
    "x = rdm.rand(32, 2)\n",
    "y_ = [[x1 + x2 + (rdm.rand() / 10.0 - 0.05)] for (x1, x2) in x]\n",
    "x = tf.cast(x, dtype = tf.float32)\n",
    "\n",
    "w1 = tf.Variable(tf.random.normal([2,1]))"
   ],
   "metadata": {
    "collapsed": false,
    "pycharm": {
     "name": "#%%\n"
    }
   }
  },
  {
   "cell_type": "code",
   "execution_count": 15,
   "outputs": [
    {
     "name": "stdout",
     "output_type": "stream",
     "text": [
      "tf.Tensor(\n",
      "[[-0.38845026]\n",
      " [-0.16044365]], shape=(2, 1), dtype=float32)\n"
     ]
    }
   ],
   "source": [
    "with tf.GradientTape() as tape:\n",
    "    y = tf.matmul(x, w1)\n",
    "    loss_mse = tf.reduce_mean(tf.square(y_ - y))\n",
    "\n",
    "grads = tape.gradient(loss_mse, w1)\n",
    "print(grads)"
   ],
   "metadata": {
    "collapsed": false,
    "pycharm": {
     "name": "#%%\n"
    }
   }
  },
  {
   "cell_type": "code",
   "execution_count": null,
   "outputs": [],
   "source": [
    "# l1正则化 l2 正则化 tf.nn.l2_loss(w) tf.reduce_sum(all_regularization) loss = loss_mse + loss_regularization"
   ],
   "metadata": {
    "collapsed": false,
    "pycharm": {
     "name": "#%%\n"
    }
   }
  },
  {
   "cell_type": "code",
   "execution_count": null,
   "outputs": [],
   "source": [
    "# SGD 随机梯度下降 w1.assign_sub(lr * grads)"
   ],
   "metadata": {
    "collapsed": false,
    "pycharm": {
     "name": "#%%\n"
    }
   }
  }
 ],
 "metadata": {
  "kernelspec": {
   "display_name": "Python 3",
   "language": "python",
   "name": "python3"
  },
  "language_info": {
   "codemirror_mode": {
    "name": "ipython",
    "version": 2
   },
   "file_extension": ".py",
   "mimetype": "text/x-python",
   "name": "python",
   "nbconvert_exporter": "python",
   "pygments_lexer": "ipython2",
   "version": "2.7.6"
  }
 },
 "nbformat": 4,
 "nbformat_minor": 0
}