{
 "cells": [
  {
   "cell_type": "markdown",
   "source": [
    "# BERT做文本分类\n",
    "BERT做文本分类\n",
    "1. 使用BERT预训练的encoder 搭配确定的preprocess\n",
    "2. 将文本经过preprocess转化为id表示\n",
    "3. 经过encoder 转化为一个向量\n",
    "4. 之后进行分类即可"
   ],
   "metadata": {
    "collapsed": false,
    "pycharm": {
     "name": "#%% md\n"
    }
   }
  },
  {
   "cell_type": "code",
   "execution_count": 63,
   "outputs": [],
   "source": [
    "import os\n",
    "import shutil\n",
    "\n",
    "import tensorflow as tf\n",
    "from tensorflow.keras import Model\n",
    "import tensorflow.keras as keras\n",
    "import tensorflow_hub as hub\n",
    "import pydot\n",
    "import graphviz\n",
    "import tensorflow_text as text\n",
    "from official.nlp import optimization\n",
    "\n",
    "import matplotlib.pyplot as plt\n",
    "\n",
    "import numpy as np\n",
    "\n",
    "tf.get_logger().setLevel('ERROR')\n",
    "os.environ['CUDA_VISIBLE_DEVICES'] = '1' # 使用 GPU 1\n",
    "os.environ['TF_FORCE_GPU_ALLOW_GROWTH'] = 'true'"
   ],
   "metadata": {
    "collapsed": false,
    "pycharm": {
     "name": "#%%\n"
    }
   }
  },
  {
   "cell_type": "code",
   "execution_count": 7,
   "outputs": [],
   "source": [
    "physical_devices = tf.config.list_physical_devices(\"GPU\")\n",
    "tf.config.experimental.set_memory_growth(physical_devices[0],True)\n",
    "logical_devices = tf.config.list_logical_devices(\"GPU\")"
   ],
   "metadata": {
    "collapsed": false,
    "pycharm": {
     "name": "#%%\n"
    }
   }
  },
  {
   "cell_type": "code",
   "execution_count": 8,
   "outputs": [
    {
     "data": {
      "text/plain": "'/home/wy'"
     },
     "execution_count": 8,
     "metadata": {},
     "output_type": "execute_result"
    }
   ],
   "source": [
    "os.getcwd()"
   ],
   "metadata": {
    "collapsed": false,
    "pycharm": {
     "name": "#%%\n"
    }
   }
  },
  {
   "cell_type": "code",
   "execution_count": 9,
   "outputs": [],
   "source": [
    "data_root_path = './tensorflow_study/bert_exp/data_dir/'"
   ],
   "metadata": {
    "collapsed": false,
    "pycharm": {
     "name": "#%%\n"
    }
   }
  },
  {
   "cell_type": "code",
   "execution_count": 10,
   "outputs": [],
   "source": [
    "# 下载数据集\n",
    "if not os.path.exists(data_root_path + 'aclImdb'):\n",
    "\n",
    "    url = 'https://ai.stanford.edu/~amaas/data/sentiment/aclImdb_v1.tar.gz'\n",
    "\n",
    "    dataset = tf.keras.utils.get_file('aclImdb_v1.tar.gz', url,\n",
    "                                  untar=True, cache_dir='./tensorflow_study/bert_exp/',\n",
    "                                  cache_subdir='data_dir')\n",
    "\n",
    "    dataset_dir = os.path.join(os.path.dirname(dataset), 'aclImdb')\n",
    "\n",
    "    train_dir = os.path.join(dataset_dir, 'train')\n",
    "\n",
    "    # remove unused folders to make it easier to load the data\n",
    "    remove_dir = os.path.join(train_dir, 'unsup')\n",
    "    shutil.rmtree(remove_dir)"
   ],
   "metadata": {
    "collapsed": false,
    "pycharm": {
     "name": "#%%\n"
    }
   }
  },
  {
   "cell_type": "code",
   "execution_count": 11,
   "outputs": [],
   "source": [
    "AUTOTUNE = tf.data.AUTOTUNE\n",
    "batch_size = 32\n",
    "seed = 42"
   ],
   "metadata": {
    "collapsed": false,
    "pycharm": {
     "name": "#%%\n"
    }
   }
  },
  {
   "cell_type": "code",
   "execution_count": 12,
   "outputs": [
    {
     "name": "stdout",
     "output_type": "stream",
     "text": [
      "Found 25000 files belonging to 2 classes.\n",
      "Using 20000 files for training.\n"
     ]
    }
   ],
   "source": [
    "raw_train_ds = tf.keras.utils.text_dataset_from_directory(\n",
    "    data_root_path + 'aclImdb/train',\n",
    "    batch_size=batch_size,\n",
    "    validation_split=0.2,\n",
    "    subset='training',\n",
    "    seed=seed)\n",
    "# text_dataset_from_directory 的模式是找到指定目录下的\n",
    "# main_directory/\n",
    "#               class_a(pos)/\n",
    "#                           xxx.txt 作为class a的内容\n",
    "\n",
    "#               class_b(neg)/\n",
    "#                           xxx.txt 作为class b的内容"
   ],
   "metadata": {
    "collapsed": false,
    "pycharm": {
     "name": "#%%\n"
    }
   }
  },
  {
   "cell_type": "code",
   "execution_count": 13,
   "outputs": [
    {
     "data": {
      "text/plain": "['neg', 'pos']"
     },
     "execution_count": 13,
     "metadata": {},
     "output_type": "execute_result"
    }
   ],
   "source": [
    "# 分类的名称\n",
    "raw_train_ds.class_names"
   ],
   "metadata": {
    "collapsed": false,
    "pycharm": {
     "name": "#%%\n"
    }
   }
  },
  {
   "cell_type": "code",
   "execution_count": 14,
   "outputs": [],
   "source": [
    "# 将数据集cache化 加载进gpu显存\n",
    "train_ds = raw_train_ds.cache().prefetch(buffer_size=AUTOTUNE)"
   ],
   "metadata": {
    "collapsed": false,
    "pycharm": {
     "name": "#%%\n"
    }
   }
  },
  {
   "cell_type": "code",
   "execution_count": 15,
   "outputs": [
    {
     "name": "stdout",
     "output_type": "stream",
     "text": [
      "Found 25000 files belonging to 2 classes.\n",
      "Using 5000 files for validation.\n",
      "Found 25000 files belonging to 2 classes.\n"
     ]
    }
   ],
   "source": [
    "# 类似方法处理验证集和测试集\n",
    "\n",
    "val_ds = tf.keras.utils.text_dataset_from_directory(\n",
    "    data_root_path + 'aclImdb/train',\n",
    "    batch_size=batch_size,\n",
    "    validation_split=0.2,\n",
    "    subset='validation',\n",
    "    seed=seed)\n",
    "\n",
    "val_ds = val_ds.cache().prefetch(buffer_size=AUTOTUNE)\n",
    "\n",
    "test_ds = tf.keras.utils.text_dataset_from_directory(\n",
    "    data_root_path + 'aclImdb/train',\n",
    "    batch_size=batch_size)\n",
    "\n",
    "test_ds = test_ds.cache().prefetch(buffer_size=AUTOTUNE)"
   ],
   "metadata": {
    "collapsed": false,
    "pycharm": {
     "name": "#%%\n"
    }
   }
  },
  {
   "cell_type": "code",
   "execution_count": 16,
   "outputs": [
    {
     "name": "stdout",
     "output_type": "stream",
     "text": [
      "BERT model selected           : https://hub.tensorflow.google.cn/tensorflow/small_bert/bert_en_uncased_L-4_H-512_A-8/1\n",
      "Preprocess model auto-selected: https://hub.tensorflow.google.cn/tensorflow/bert_en_uncased_preprocess/3\n"
     ]
    }
   ],
   "source": [
    "# 选择bert模型\n",
    "bert_model_name = 'small_bert/bert_en_uncased_L-4_H-512_A-8'\n",
    "\n",
    "map_name_to_handle = {\n",
    "    'bert_en_uncased_L-12_H-768_A-12':\n",
    "        'https://tfhub.dev/tensorflow/bert_en_uncased_L-12_H-768_A-12/3',\n",
    "    'bert_en_cased_L-12_H-768_A-12':\n",
    "        'https://tfhub.dev/tensorflow/bert_en_cased_L-12_H-768_A-12/3',\n",
    "    'bert_multi_cased_L-12_H-768_A-12':\n",
    "        'https://tfhub.dev/tensorflow/bert_multi_cased_L-12_H-768_A-12/3',\n",
    "    'small_bert/bert_en_uncased_L-2_H-128_A-2':\n",
    "        'https://tfhub.dev/tensorflow/small_bert/bert_en_uncased_L-2_H-128_A-2/1',\n",
    "    'small_bert/bert_en_uncased_L-2_H-256_A-4':\n",
    "        'https://tfhub.dev/tensorflow/small_bert/bert_en_uncased_L-2_H-256_A-4/1',\n",
    "    'small_bert/bert_en_uncased_L-2_H-512_A-8':\n",
    "        'https://tfhub.dev/tensorflow/small_bert/bert_en_uncased_L-2_H-512_A-8/1',\n",
    "    'small_bert/bert_en_uncased_L-2_H-768_A-12':\n",
    "        'https://tfhub.dev/tensorflow/small_bert/bert_en_uncased_L-2_H-768_A-12/1',\n",
    "    'small_bert/bert_en_uncased_L-4_H-128_A-2':\n",
    "        'https://tfhub.dev/tensorflow/small_bert/bert_en_uncased_L-4_H-128_A-2/1',\n",
    "    'small_bert/bert_en_uncased_L-4_H-256_A-4':\n",
    "        'https://tfhub.dev/tensorflow/small_bert/bert_en_uncased_L-4_H-256_A-4/1',\n",
    "    'small_bert/bert_en_uncased_L-4_H-512_A-8':\n",
    "        'https://tfhub.dev/tensorflow/small_bert/bert_en_uncased_L-4_H-512_A-8/1',\n",
    "    'small_bert/bert_en_uncased_L-4_H-768_A-12':\n",
    "        'https://tfhub.dev/tensorflow/small_bert/bert_en_uncased_L-4_H-768_A-12/1',\n",
    "    'small_bert/bert_en_uncased_L-6_H-128_A-2':\n",
    "        'https://tfhub.dev/tensorflow/small_bert/bert_en_uncased_L-6_H-128_A-2/1',\n",
    "    'small_bert/bert_en_uncased_L-6_H-256_A-4':\n",
    "        'https://tfhub.dev/tensorflow/small_bert/bert_en_uncased_L-6_H-256_A-4/1',\n",
    "    'small_bert/bert_en_uncased_L-6_H-512_A-8':\n",
    "        'https://tfhub.dev/tensorflow/small_bert/bert_en_uncased_L-6_H-512_A-8/1',\n",
    "    'small_bert/bert_en_uncased_L-6_H-768_A-12':\n",
    "        'https://tfhub.dev/tensorflow/small_bert/bert_en_uncased_L-6_H-768_A-12/1',\n",
    "    'small_bert/bert_en_uncased_L-8_H-128_A-2':\n",
    "        'https://tfhub.dev/tensorflow/small_bert/bert_en_uncased_L-8_H-128_A-2/1',\n",
    "    'small_bert/bert_en_uncased_L-8_H-256_A-4':\n",
    "        'https://tfhub.dev/tensorflow/small_bert/bert_en_uncased_L-8_H-256_A-4/1',\n",
    "    'small_bert/bert_en_uncased_L-8_H-512_A-8':\n",
    "        'https://tfhub.dev/tensorflow/small_bert/bert_en_uncased_L-8_H-512_A-8/1',\n",
    "    'small_bert/bert_en_uncased_L-8_H-768_A-12':\n",
    "        'https://tfhub.dev/tensorflow/small_bert/bert_en_uncased_L-8_H-768_A-12/1',\n",
    "    'small_bert/bert_en_uncased_L-10_H-128_A-2':\n",
    "        'https://tfhub.dev/tensorflow/small_bert/bert_en_uncased_L-10_H-128_A-2/1',\n",
    "    'small_bert/bert_en_uncased_L-10_H-256_A-4':\n",
    "        'https://tfhub.dev/tensorflow/small_bert/bert_en_uncased_L-10_H-256_A-4/1',\n",
    "    'small_bert/bert_en_uncased_L-10_H-512_A-8':\n",
    "        'https://tfhub.dev/tensorflow/small_bert/bert_en_uncased_L-10_H-512_A-8/1',\n",
    "    'small_bert/bert_en_uncased_L-10_H-768_A-12':\n",
    "        'https://tfhub.dev/tensorflow/small_bert/bert_en_uncased_L-10_H-768_A-12/1',\n",
    "    'small_bert/bert_en_uncased_L-12_H-128_A-2':\n",
    "        'https://tfhub.dev/tensorflow/small_bert/bert_en_uncased_L-12_H-128_A-2/1',\n",
    "    'small_bert/bert_en_uncased_L-12_H-256_A-4':\n",
    "        'https://tfhub.dev/tensorflow/small_bert/bert_en_uncased_L-12_H-256_A-4/1',\n",
    "    'small_bert/bert_en_uncased_L-12_H-512_A-8':\n",
    "        'https://tfhub.dev/tensorflow/small_bert/bert_en_uncased_L-12_H-512_A-8/1',\n",
    "    'small_bert/bert_en_uncased_L-12_H-768_A-12':\n",
    "        'https://tfhub.dev/tensorflow/small_bert/bert_en_uncased_L-12_H-768_A-12/1',\n",
    "    'albert_en_base':\n",
    "        'https://tfhub.dev/tensorflow/albert_en_base/2',\n",
    "    'electra_small':\n",
    "        'https://tfhub.dev/google/electra_small/2',\n",
    "    'electra_base':\n",
    "        'https://tfhub.dev/google/electra_base/2',\n",
    "    'experts_pubmed':\n",
    "        'https://tfhub.dev/google/experts/bert/pubmed/2',\n",
    "    'experts_wiki_books':\n",
    "        'https://tfhub.dev/google/experts/bert/wiki_books/2',\n",
    "    'talking-heads_base':\n",
    "        'https://tfhub.dev/tensorflow/talkheads_ggelu_bert_en_base/1',\n",
    "}\n",
    "\n",
    "map_model_to_preprocess = {\n",
    "    'bert_en_uncased_L-12_H-768_A-12':\n",
    "        'https://tfhub.dev/tensorflow/bert_en_uncased_preprocess/3',\n",
    "    'bert_en_cased_L-12_H-768_A-12':\n",
    "        'https://tfhub.dev/tensorflow/bert_en_cased_preprocess/3',\n",
    "    'small_bert/bert_en_uncased_L-2_H-128_A-2':\n",
    "        'https://tfhub.dev/tensorflow/bert_en_uncased_preprocess/3',\n",
    "    'small_bert/bert_en_uncased_L-2_H-256_A-4':\n",
    "        'https://tfhub.dev/tensorflow/bert_en_uncased_preprocess/3',\n",
    "    'small_bert/bert_en_uncased_L-2_H-512_A-8':\n",
    "        'https://tfhub.dev/tensorflow/bert_en_uncased_preprocess/3',\n",
    "    'small_bert/bert_en_uncased_L-2_H-768_A-12':\n",
    "        'https://tfhub.dev/tensorflow/bert_en_uncased_preprocess/3',\n",
    "    'small_bert/bert_en_uncased_L-4_H-128_A-2':\n",
    "        'https://tfhub.dev/tensorflow/bert_en_uncased_preprocess/3',\n",
    "    'small_bert/bert_en_uncased_L-4_H-256_A-4':\n",
    "        'https://tfhub.dev/tensorflow/bert_en_uncased_preprocess/3',\n",
    "    'small_bert/bert_en_uncased_L-4_H-512_A-8':\n",
    "        'https://tfhub.dev/tensorflow/bert_en_uncased_preprocess/3',\n",
    "    'small_bert/bert_en_uncased_L-4_H-768_A-12':\n",
    "        'https://tfhub.dev/tensorflow/bert_en_uncased_preprocess/3',\n",
    "    'small_bert/bert_en_uncased_L-6_H-128_A-2':\n",
    "        'https://tfhub.dev/tensorflow/bert_en_uncased_preprocess/3',\n",
    "    'small_bert/bert_en_uncased_L-6_H-256_A-4':\n",
    "        'https://tfhub.dev/tensorflow/bert_en_uncased_preprocess/3',\n",
    "    'small_bert/bert_en_uncased_L-6_H-512_A-8':\n",
    "        'https://tfhub.dev/tensorflow/bert_en_uncased_preprocess/3',\n",
    "    'small_bert/bert_en_uncased_L-6_H-768_A-12':\n",
    "        'https://tfhub.dev/tensorflow/bert_en_uncased_preprocess/3',\n",
    "    'small_bert/bert_en_uncased_L-8_H-128_A-2':\n",
    "        'https://tfhub.dev/tensorflow/bert_en_uncased_preprocess/3',\n",
    "    'small_bert/bert_en_uncased_L-8_H-256_A-4':\n",
    "        'https://tfhub.dev/tensorflow/bert_en_uncased_preprocess/3',\n",
    "    'small_bert/bert_en_uncased_L-8_H-512_A-8':\n",
    "        'https://tfhub.dev/tensorflow/bert_en_uncased_preprocess/3',\n",
    "    'small_bert/bert_en_uncased_L-8_H-768_A-12':\n",
    "        'https://tfhub.dev/tensorflow/bert_en_uncased_preprocess/3',\n",
    "    'small_bert/bert_en_uncased_L-10_H-128_A-2':\n",
    "        'https://tfhub.dev/tensorflow/bert_en_uncased_preprocess/3',\n",
    "    'small_bert/bert_en_uncased_L-10_H-256_A-4':\n",
    "        'https://tfhub.dev/tensorflow/bert_en_uncased_preprocess/3',\n",
    "    'small_bert/bert_en_uncased_L-10_H-512_A-8':\n",
    "        'https://tfhub.dev/tensorflow/bert_en_uncased_preprocess/3',\n",
    "    'small_bert/bert_en_uncased_L-10_H-768_A-12':\n",
    "        'https://tfhub.dev/tensorflow/bert_en_uncased_preprocess/3',\n",
    "    'small_bert/bert_en_uncased_L-12_H-128_A-2':\n",
    "        'https://tfhub.dev/tensorflow/bert_en_uncased_preprocess/3',\n",
    "    'small_bert/bert_en_uncased_L-12_H-256_A-4':\n",
    "        'https://tfhub.dev/tensorflow/bert_en_uncased_preprocess/3',\n",
    "    'small_bert/bert_en_uncased_L-12_H-512_A-8':\n",
    "        'https://tfhub.dev/tensorflow/bert_en_uncased_preprocess/3',\n",
    "    'small_bert/bert_en_uncased_L-12_H-768_A-12':\n",
    "        'https://tfhub.dev/tensorflow/bert_en_uncased_preprocess/3',\n",
    "    'bert_multi_cased_L-12_H-768_A-12':\n",
    "        'https://tfhub.dev/tensorflow/bert_multi_cased_preprocess/3',\n",
    "    'albert_en_base':\n",
    "        'https://tfhub.dev/tensorflow/albert_en_preprocess/3',\n",
    "    'electra_small':\n",
    "        'https://tfhub.dev/tensorflow/bert_en_uncased_preprocess/3',\n",
    "    'electra_base':\n",
    "        'https://tfhub.dev/tensorflow/bert_en_uncased_preprocess/3',\n",
    "    'experts_pubmed':\n",
    "        'https://tfhub.dev/tensorflow/bert_en_uncased_preprocess/3',\n",
    "    'experts_wiki_books':\n",
    "        'https://tfhub.dev/tensorflow/bert_en_uncased_preprocess/3',\n",
    "    'talking-heads_base':\n",
    "        'https://tfhub.dev/tensorflow/bert_en_uncased_preprocess/3',\n",
    "}\n",
    "\n",
    "tfhub_handle_encoder = map_name_to_handle[bert_model_name]\n",
    "tfhub_handle_preprocess = map_model_to_preprocess[bert_model_name]\n",
    "\n",
    "tfhub_handle_preprocess = tfhub_handle_preprocess.replace('https://tfhub.dev', 'https://hub.tensorflow.google.cn')\n",
    "tfhub_handle_encoder = tfhub_handle_encoder.replace('https://tfhub.dev', 'https://hub.tensorflow.google.cn')\n",
    "# 替换成中国区\n",
    "\n",
    "print(f'BERT model selected           : {tfhub_handle_encoder}')\n",
    "print(f'Preprocess model auto-selected: {tfhub_handle_preprocess}')"
   ],
   "metadata": {
    "collapsed": false,
    "pycharm": {
     "name": "#%%\n"
    }
   }
  },
  {
   "cell_type": "code",
   "execution_count": 17,
   "outputs": [],
   "source": [
    "# 通过bert的地址 获得bert对应的keras模型\n",
    "bert_preprocess_model = hub.KerasLayer(tfhub_handle_preprocess)"
   ],
   "metadata": {
    "collapsed": false,
    "pycharm": {
     "name": "#%%\n"
    }
   }
  },
  {
   "cell_type": "code",
   "execution_count": 18,
   "outputs": [
    {
     "data": {
      "text/plain": "{'input_word_ids': <tf.Tensor: shape=(1, 128), dtype=int32, numpy=\n array([[ 101, 2023, 2003, 2107, 2019, 6429, 3185,  999, 1045, 2293, 2009,\n         1012,  102,    0,    0,    0,    0,    0,    0,    0,    0,    0,\n            0,    0,    0,    0,    0,    0,    0,    0,    0,    0,    0,\n            0,    0,    0,    0,    0,    0,    0,    0,    0,    0,    0,\n            0,    0,    0,    0,    0,    0,    0,    0,    0,    0,    0,\n            0,    0,    0,    0,    0,    0,    0,    0,    0,    0,    0,\n            0,    0,    0,    0,    0,    0,    0,    0,    0,    0,    0,\n            0,    0,    0,    0,    0,    0,    0,    0,    0,    0,    0,\n            0,    0,    0,    0,    0,    0,    0,    0,    0,    0,    0,\n            0,    0,    0,    0,    0,    0,    0,    0,    0,    0,    0,\n            0,    0,    0,    0,    0,    0,    0,    0,    0,    0,    0,\n            0,    0,    0,    0,    0,    0,    0]], dtype=int32)>,\n 'input_type_ids': <tf.Tensor: shape=(1, 128), dtype=int32, numpy=\n array([[0, 0, 0, 0, 0, 0, 0, 0, 0, 0, 0, 0, 0, 0, 0, 0, 0, 0, 0, 0, 0, 0,\n         0, 0, 0, 0, 0, 0, 0, 0, 0, 0, 0, 0, 0, 0, 0, 0, 0, 0, 0, 0, 0, 0,\n         0, 0, 0, 0, 0, 0, 0, 0, 0, 0, 0, 0, 0, 0, 0, 0, 0, 0, 0, 0, 0, 0,\n         0, 0, 0, 0, 0, 0, 0, 0, 0, 0, 0, 0, 0, 0, 0, 0, 0, 0, 0, 0, 0, 0,\n         0, 0, 0, 0, 0, 0, 0, 0, 0, 0, 0, 0, 0, 0, 0, 0, 0, 0, 0, 0, 0, 0,\n         0, 0, 0, 0, 0, 0, 0, 0, 0, 0, 0, 0, 0, 0, 0, 0, 0, 0]],\n       dtype=int32)>,\n 'input_mask': <tf.Tensor: shape=(1, 128), dtype=int32, numpy=\n array([[1, 1, 1, 1, 1, 1, 1, 1, 1, 1, 1, 1, 1, 0, 0, 0, 0, 0, 0, 0, 0, 0,\n         0, 0, 0, 0, 0, 0, 0, 0, 0, 0, 0, 0, 0, 0, 0, 0, 0, 0, 0, 0, 0, 0,\n         0, 0, 0, 0, 0, 0, 0, 0, 0, 0, 0, 0, 0, 0, 0, 0, 0, 0, 0, 0, 0, 0,\n         0, 0, 0, 0, 0, 0, 0, 0, 0, 0, 0, 0, 0, 0, 0, 0, 0, 0, 0, 0, 0, 0,\n         0, 0, 0, 0, 0, 0, 0, 0, 0, 0, 0, 0, 0, 0, 0, 0, 0, 0, 0, 0, 0, 0,\n         0, 0, 0, 0, 0, 0, 0, 0, 0, 0, 0, 0, 0, 0, 0, 0, 0, 0]],\n       dtype=int32)>}"
     },
     "execution_count": 18,
     "metadata": {},
     "output_type": "execute_result"
    }
   ],
   "source": [
    "text_test = tf.constant(['this is such an amazing movie! I love it.'])\n",
    "text_preprocessed = bert_preprocess_model(text_test)\n",
    "text_preprocessed"
   ],
   "metadata": {
    "collapsed": false,
    "pycharm": {
     "name": "#%%\n"
    }
   }
  },
  {
   "cell_type": "code",
   "execution_count": 19,
   "outputs": [
    {
     "name": "stdout",
     "output_type": "stream",
     "text": [
      "Keys       : ['input_word_ids', 'input_type_ids', 'input_mask']\n",
      "Shape      : (1, 128)\n",
      "Word Ids   : [ 101 2023 2003 2107 2019 6429 3185  999 1045 2293 2009 1012  102    0\n",
      "    0    0    0    0    0    0]\n",
      "Input Mask : [1 1 1 1 1 1 1 1 1 1 1 1 1 0 0 0 0 0 0 0]\n",
      "Type Ids   : [0 0 0 0 0 0 0 0 0 0 0 0 0 0 0 0 0 0 0 0]\n"
     ]
    }
   ],
   "source": [
    "print(f'Keys       : {list(text_preprocessed.keys())}')\n",
    "print(f'Shape      : {text_preprocessed[\"input_word_ids\"].shape}')\n",
    "print(f'Word Ids   : {text_preprocessed[\"input_word_ids\"][0, :20]}')\n",
    "print(f'Input Mask : {text_preprocessed[\"input_mask\"][0, :20]}')\n",
    "print(f'Type Ids   : {text_preprocessed[\"input_type_ids\"][0, :20]}')\n",
    "# preprocess之后得到三个输出 input_type_ids, input_mask input_word_ids\n",
    "\n",
    "# 将输入限制在128个token之内\n",
    "# 值得注意的是自动加了sos->101 eos->102"
   ],
   "metadata": {
    "collapsed": false,
    "pycharm": {
     "name": "#%%\n"
    }
   }
  },
  {
   "cell_type": "code",
   "execution_count": 20,
   "outputs": [],
   "source": [
    "bert_model = hub.KerasLayer(tfhub_handle_encoder)"
   ],
   "metadata": {
    "collapsed": false,
    "pycharm": {
     "name": "#%%\n"
    }
   }
  },
  {
   "cell_type": "code",
   "execution_count": 21,
   "outputs": [
    {
     "data": {
      "text/plain": "{'default': <tf.Tensor: shape=(1, 512), dtype=float32, numpy=\n array([[ 0.94583553,  0.99236196, -0.04731859,  0.403131  ,  0.03982377,\n          0.55926394,  0.9726481 , -0.98114413,  0.11186353, -0.9885572 ,\n         -0.007943  , -0.9915898 ,  0.51591676, -0.99976724,  0.23134291,\n          0.56714445,  0.02372164,  0.28877968, -0.5466042 , -0.3921279 ,\n          0.28494704, -0.093316  , -0.94514793, -0.33993337,  0.99549043,\n          0.9918967 , -0.4085013 , -0.279065  ,  0.34103978,  0.998995  ,\n          0.57101595, -0.16961594,  0.56449014, -0.25247318,  0.33606845,\n          0.00919084, -0.14162496, -0.5767899 , -0.91212845, -0.10437413,\n         -0.0187241 ,  0.05135365,  0.26332742, -0.79209185,  0.15561007,\n          0.6867801 , -0.985526  ,  0.1390413 ,  0.5991049 , -0.4234864 ,\n          0.99840933, -0.2802809 ,  0.9865977 , -0.60577315,  0.77312416,\n          0.0169067 , -0.05991882, -0.36237583, -0.99974024, -0.9960342 ,\n          0.10039859, -0.22235483,  0.9847399 , -0.08819681,  0.0415976 ,\n         -0.9957554 ,  0.7632783 ,  0.9289595 ,  0.15400876,  0.3067896 ,\n          0.98101664,  0.9991282 ,  0.18533358, -0.9970476 , -0.60319364,\n          0.12651788, -0.39933464,  0.9860537 ,  0.00164874, -0.39204377,\n         -0.89193785,  0.11534638,  0.9659548 , -0.78251755,  0.99977034,\n         -0.9976793 ,  0.2542826 ,  0.39465192, -0.47029644, -0.07905343,\n         -0.9995244 , -0.2877812 ,  0.41612932, -0.98865306, -0.84900635,\n         -0.8166715 ,  0.9836251 ,  0.01217906, -0.7606813 , -0.28262106,\n         -0.92728233, -0.9730192 , -0.9901053 ,  0.18815508, -0.18314208,\n          0.24136414,  0.95934474,  0.36807984, -0.54992384,  0.67252326,\n         -0.34763035,  0.49746928,  0.99348134, -0.99977404, -0.14412588,\n          0.587232  ,  0.59876233,  0.9497039 , -0.08434521,  0.999304  ,\n         -0.9788953 ,  0.05130841, -0.99860364,  0.5101774 , -0.3587172 ,\n         -0.2137951 ,  0.767517  ,  0.13188472, -0.20789996, -0.31971908,\n          0.9989842 ,  0.99875206,  0.9822236 ,  0.32719493,  0.41935015,\n         -0.7725267 ,  0.9762322 , -0.9988201 , -0.9031643 ,  0.43763986,\n          0.99998796,  0.47800356, -0.60709393,  0.94778544, -0.24830835,\n          0.99932444, -0.977021  ,  0.9692249 ,  0.48315632, -0.22590879,\n         -0.16174436, -0.49668917,  0.9926598 ,  0.05238756,  0.32525256,\n         -0.12973432, -0.9913978 ,  0.9728974 ,  0.3621587 ,  0.17486615,\n         -0.1950504 ,  0.23359372, -0.46430483, -0.6467818 ,  0.99977213,\n         -0.08278806, -0.2991514 , -0.4868799 ,  0.9951456 ,  0.5946667 ,\n          0.05537385, -0.9942272 ,  0.9241526 , -0.9986315 ,  0.7306397 ,\n          0.5325231 ,  0.20599169,  0.16158205,  0.9999314 ,  0.9179514 ,\n          0.95271677,  0.11349624,  0.99253213, -0.9754947 ,  0.5346811 ,\n         -0.998134  , -0.9962636 , -0.8376599 , -0.26607835,  0.9973401 ,\n          0.39137655, -0.25120693, -0.9995898 , -0.5150546 ,  0.9999004 ,\n          0.2827543 , -0.82582   , -0.9997526 ,  0.928653  ,  0.3002153 ,\n          0.51968735, -0.46603978,  0.18301263,  0.1316976 , -0.37590906,\n          0.9254404 , -0.31530687,  0.95747846,  0.99135506, -0.03848647,\n          0.84201825,  0.05677874,  0.00543307,  0.4372347 ,  0.9989936 ,\n         -0.8596385 ,  0.9850801 ,  0.9929795 ,  0.9994406 , -0.07509344,\n         -0.9986114 , -0.63602906, -0.57253975,  0.3738646 ,  0.93680704,\n          0.15117621, -0.9984888 ,  0.47045386, -0.9811973 ,  0.98199713,\n          0.02879385,  0.00230378, -0.11250094,  0.14753793,  0.9925231 ,\n          0.41985542, -0.66760176,  0.28965253,  0.43888184, -0.03694984,\n          0.32218617,  0.9999919 , -0.98790985,  0.9918365 ,  0.9494684 ,\n          0.63790506,  0.99479216,  0.17488901,  0.9499667 , -0.19827177,\n         -0.07950146, -0.04539936, -0.52741647,  0.5634844 ,  0.9983143 ,\n         -0.18078382, -0.14543922, -0.9983339 ,  0.84444606,  0.6364894 ,\n         -0.5267455 , -0.99639404, -0.2741796 , -0.7869999 , -0.12858725,\n          0.9989476 ,  0.79990685, -0.6251386 , -0.06306389,  0.25027215,\n          0.99943835,  0.00681369, -0.99685574,  0.9999392 , -0.29614592,\n         -0.98365647,  0.99060625,  0.07466149, -0.9563018 , -0.01276056,\n         -0.9946219 , -0.9996392 ,  0.9264485 ,  0.99956584, -0.560774  ,\n          0.08930336,  0.41293555,  0.28531992, -0.99715585, -0.9992917 ,\n         -0.15259291,  0.24156664,  0.57508   ,  0.9849072 ,  0.9995601 ,\n         -0.9977643 , -0.15850045,  0.982317  ,  0.03332686,  0.99639964,\n          0.9995974 , -0.69255465, -0.9727056 ,  0.89367175, -0.29644912,\n         -0.24157555,  0.41923183,  0.9978772 ,  0.19340716,  0.41627523,\n          0.18735965,  0.18945253, -0.03677556,  0.69346654,  0.960905  ,\n          0.27749577,  0.2610823 ,  0.43219027,  0.7438672 ,  0.9998771 ,\n         -0.19570106, -0.2120852 , -0.49789986,  0.8914437 , -0.18243611,\n         -0.548797  , -0.4238426 ,  0.78329724, -0.99975157,  0.0415697 ,\n          0.85678756,  0.27438638, -0.25404534,  0.7392249 , -0.14805305,\n         -0.15569066,  0.1922039 , -0.8090594 , -0.9928697 ,  0.4556978 ,\n          0.99910045, -0.16043681, -0.52903867,  0.99373496,  0.35131252,\n          0.9894936 ,  0.9754315 ,  0.99948823, -0.15998073,  0.997599  ,\n          0.32974038,  0.31659234, -0.75692874,  0.05203199,  0.9994229 ,\n          0.22678584, -0.3232018 , -0.2583152 , -0.64770883, -0.00932348,\n         -0.99910194, -0.9988186 , -0.5871274 , -0.21796761, -0.07516331,\n         -0.960317  , -0.9992973 , -0.01542914,  0.14478919, -0.01086332,\n          0.2102279 ,  0.98578185,  0.09959546,  0.04673535, -0.8383014 ,\n         -0.99813503, -0.06317171, -0.13495389, -0.33810732, -0.5789316 ,\n          0.85685605, -0.06819867, -0.9983461 ,  0.2479613 ,  0.9997691 ,\n          0.9384076 ,  0.43141195, -0.22140852,  0.9900628 , -0.35554543,\n         -0.37011054,  0.99001163, -0.9999798 , -0.08261619, -0.38419598,\n         -0.21354178,  0.1102758 , -0.5988283 ,  0.9991282 ,  0.10399712,\n         -0.2610052 , -0.4678917 ,  0.8995243 , -0.10571503,  0.9703007 ,\n          0.6719596 , -0.99652153, -0.31409875, -0.10822824, -0.99997765,\n          0.9690785 ,  0.78158134, -0.9996952 ,  0.34493443, -0.2636327 ,\n          0.5856895 ,  0.09184776, -0.8476909 ,  0.43987936, -0.99956566,\n         -0.4762841 ,  0.9985721 , -0.53983414,  0.96955645,  0.28981072,\n         -0.8101621 , -0.19198053,  0.07487673,  0.27892312,  0.2925911 ,\n          0.4305522 , -0.88053036,  0.9993066 , -0.99571675,  0.36529353,\n          0.1325958 , -0.97031456, -0.9932367 , -0.4015286 ,  0.13413058,\n         -0.1620308 , -0.99709964, -0.99887353, -0.06064533, -0.99881464,\n         -0.7617878 , -0.9695352 ,  0.0554386 , -0.376161  ,  0.3659633 ,\n          0.230227  ,  0.02684841,  0.06409778,  0.6861525 ,  0.13847667,\n          0.9993224 , -0.44088075, -0.45670676, -0.13370354,  0.98772573,\n          0.9350973 ,  0.31762093, -0.99954987,  0.55943996,  0.9997631 ,\n          0.9636252 ,  0.95760286,  0.99806637, -0.86333483, -0.15133414,\n          0.44242534, -0.5909661 ,  0.95894957,  0.08147977,  0.65070283,\n         -0.9993471 , -0.98860973,  0.21382894, -0.99164164,  0.98398817,\n          0.42847845,  0.36735174,  0.48969874,  0.32941306, -0.0985625 ,\n         -0.54846966, -0.99837136, -0.68746984,  0.40706685, -0.5311962 ,\n          0.01643281, -0.99999624, -0.96124387,  0.58728766,  0.2738764 ,\n         -0.00965518,  0.02030765,  0.18535723, -0.96001434,  0.9996797 ,\n         -0.9083399 , -0.06164398,  0.06389609,  0.04343956, -0.02475271,\n         -0.23477592,  0.95437866,  0.879833  , -0.00605903,  0.101081  ,\n         -0.4689715 ,  0.5305971 ]], dtype=float32)>,\n 'pooled_output': <tf.Tensor: shape=(1, 512), dtype=float32, numpy=\n array([[ 0.94583553,  0.99236196, -0.04731859,  0.403131  ,  0.03982377,\n          0.55926394,  0.9726481 , -0.98114413,  0.11186353, -0.9885572 ,\n         -0.007943  , -0.9915898 ,  0.51591676, -0.99976724,  0.23134291,\n          0.56714445,  0.02372164,  0.28877968, -0.5466042 , -0.3921279 ,\n          0.28494704, -0.093316  , -0.94514793, -0.33993337,  0.99549043,\n          0.9918967 , -0.4085013 , -0.279065  ,  0.34103978,  0.998995  ,\n          0.57101595, -0.16961594,  0.56449014, -0.25247318,  0.33606845,\n          0.00919084, -0.14162496, -0.5767899 , -0.91212845, -0.10437413,\n         -0.0187241 ,  0.05135365,  0.26332742, -0.79209185,  0.15561007,\n          0.6867801 , -0.985526  ,  0.1390413 ,  0.5991049 , -0.4234864 ,\n          0.99840933, -0.2802809 ,  0.9865977 , -0.60577315,  0.77312416,\n          0.0169067 , -0.05991882, -0.36237583, -0.99974024, -0.9960342 ,\n          0.10039859, -0.22235483,  0.9847399 , -0.08819681,  0.0415976 ,\n         -0.9957554 ,  0.7632783 ,  0.9289595 ,  0.15400876,  0.3067896 ,\n          0.98101664,  0.9991282 ,  0.18533358, -0.9970476 , -0.60319364,\n          0.12651788, -0.39933464,  0.9860537 ,  0.00164874, -0.39204377,\n         -0.89193785,  0.11534638,  0.9659548 , -0.78251755,  0.99977034,\n         -0.9976793 ,  0.2542826 ,  0.39465192, -0.47029644, -0.07905343,\n         -0.9995244 , -0.2877812 ,  0.41612932, -0.98865306, -0.84900635,\n         -0.8166715 ,  0.9836251 ,  0.01217906, -0.7606813 , -0.28262106,\n         -0.92728233, -0.9730192 , -0.9901053 ,  0.18815508, -0.18314208,\n          0.24136414,  0.95934474,  0.36807984, -0.54992384,  0.67252326,\n         -0.34763035,  0.49746928,  0.99348134, -0.99977404, -0.14412588,\n          0.587232  ,  0.59876233,  0.9497039 , -0.08434521,  0.999304  ,\n         -0.9788953 ,  0.05130841, -0.99860364,  0.5101774 , -0.3587172 ,\n         -0.2137951 ,  0.767517  ,  0.13188472, -0.20789996, -0.31971908,\n          0.9989842 ,  0.99875206,  0.9822236 ,  0.32719493,  0.41935015,\n         -0.7725267 ,  0.9762322 , -0.9988201 , -0.9031643 ,  0.43763986,\n          0.99998796,  0.47800356, -0.60709393,  0.94778544, -0.24830835,\n          0.99932444, -0.977021  ,  0.9692249 ,  0.48315632, -0.22590879,\n         -0.16174436, -0.49668917,  0.9926598 ,  0.05238756,  0.32525256,\n         -0.12973432, -0.9913978 ,  0.9728974 ,  0.3621587 ,  0.17486615,\n         -0.1950504 ,  0.23359372, -0.46430483, -0.6467818 ,  0.99977213,\n         -0.08278806, -0.2991514 , -0.4868799 ,  0.9951456 ,  0.5946667 ,\n          0.05537385, -0.9942272 ,  0.9241526 , -0.9986315 ,  0.7306397 ,\n          0.5325231 ,  0.20599169,  0.16158205,  0.9999314 ,  0.9179514 ,\n          0.95271677,  0.11349624,  0.99253213, -0.9754947 ,  0.5346811 ,\n         -0.998134  , -0.9962636 , -0.8376599 , -0.26607835,  0.9973401 ,\n          0.39137655, -0.25120693, -0.9995898 , -0.5150546 ,  0.9999004 ,\n          0.2827543 , -0.82582   , -0.9997526 ,  0.928653  ,  0.3002153 ,\n          0.51968735, -0.46603978,  0.18301263,  0.1316976 , -0.37590906,\n          0.9254404 , -0.31530687,  0.95747846,  0.99135506, -0.03848647,\n          0.84201825,  0.05677874,  0.00543307,  0.4372347 ,  0.9989936 ,\n         -0.8596385 ,  0.9850801 ,  0.9929795 ,  0.9994406 , -0.07509344,\n         -0.9986114 , -0.63602906, -0.57253975,  0.3738646 ,  0.93680704,\n          0.15117621, -0.9984888 ,  0.47045386, -0.9811973 ,  0.98199713,\n          0.02879385,  0.00230378, -0.11250094,  0.14753793,  0.9925231 ,\n          0.41985542, -0.66760176,  0.28965253,  0.43888184, -0.03694984,\n          0.32218617,  0.9999919 , -0.98790985,  0.9918365 ,  0.9494684 ,\n          0.63790506,  0.99479216,  0.17488901,  0.9499667 , -0.19827177,\n         -0.07950146, -0.04539936, -0.52741647,  0.5634844 ,  0.9983143 ,\n         -0.18078382, -0.14543922, -0.9983339 ,  0.84444606,  0.6364894 ,\n         -0.5267455 , -0.99639404, -0.2741796 , -0.7869999 , -0.12858725,\n          0.9989476 ,  0.79990685, -0.6251386 , -0.06306389,  0.25027215,\n          0.99943835,  0.00681369, -0.99685574,  0.9999392 , -0.29614592,\n         -0.98365647,  0.99060625,  0.07466149, -0.9563018 , -0.01276056,\n         -0.9946219 , -0.9996392 ,  0.9264485 ,  0.99956584, -0.560774  ,\n          0.08930336,  0.41293555,  0.28531992, -0.99715585, -0.9992917 ,\n         -0.15259291,  0.24156664,  0.57508   ,  0.9849072 ,  0.9995601 ,\n         -0.9977643 , -0.15850045,  0.982317  ,  0.03332686,  0.99639964,\n          0.9995974 , -0.69255465, -0.9727056 ,  0.89367175, -0.29644912,\n         -0.24157555,  0.41923183,  0.9978772 ,  0.19340716,  0.41627523,\n          0.18735965,  0.18945253, -0.03677556,  0.69346654,  0.960905  ,\n          0.27749577,  0.2610823 ,  0.43219027,  0.7438672 ,  0.9998771 ,\n         -0.19570106, -0.2120852 , -0.49789986,  0.8914437 , -0.18243611,\n         -0.548797  , -0.4238426 ,  0.78329724, -0.99975157,  0.0415697 ,\n          0.85678756,  0.27438638, -0.25404534,  0.7392249 , -0.14805305,\n         -0.15569066,  0.1922039 , -0.8090594 , -0.9928697 ,  0.4556978 ,\n          0.99910045, -0.16043681, -0.52903867,  0.99373496,  0.35131252,\n          0.9894936 ,  0.9754315 ,  0.99948823, -0.15998073,  0.997599  ,\n          0.32974038,  0.31659234, -0.75692874,  0.05203199,  0.9994229 ,\n          0.22678584, -0.3232018 , -0.2583152 , -0.64770883, -0.00932348,\n         -0.99910194, -0.9988186 , -0.5871274 , -0.21796761, -0.07516331,\n         -0.960317  , -0.9992973 , -0.01542914,  0.14478919, -0.01086332,\n          0.2102279 ,  0.98578185,  0.09959546,  0.04673535, -0.8383014 ,\n         -0.99813503, -0.06317171, -0.13495389, -0.33810732, -0.5789316 ,\n          0.85685605, -0.06819867, -0.9983461 ,  0.2479613 ,  0.9997691 ,\n          0.9384076 ,  0.43141195, -0.22140852,  0.9900628 , -0.35554543,\n         -0.37011054,  0.99001163, -0.9999798 , -0.08261619, -0.38419598,\n         -0.21354178,  0.1102758 , -0.5988283 ,  0.9991282 ,  0.10399712,\n         -0.2610052 , -0.4678917 ,  0.8995243 , -0.10571503,  0.9703007 ,\n          0.6719596 , -0.99652153, -0.31409875, -0.10822824, -0.99997765,\n          0.9690785 ,  0.78158134, -0.9996952 ,  0.34493443, -0.2636327 ,\n          0.5856895 ,  0.09184776, -0.8476909 ,  0.43987936, -0.99956566,\n         -0.4762841 ,  0.9985721 , -0.53983414,  0.96955645,  0.28981072,\n         -0.8101621 , -0.19198053,  0.07487673,  0.27892312,  0.2925911 ,\n          0.4305522 , -0.88053036,  0.9993066 , -0.99571675,  0.36529353,\n          0.1325958 , -0.97031456, -0.9932367 , -0.4015286 ,  0.13413058,\n         -0.1620308 , -0.99709964, -0.99887353, -0.06064533, -0.99881464,\n         -0.7617878 , -0.9695352 ,  0.0554386 , -0.376161  ,  0.3659633 ,\n          0.230227  ,  0.02684841,  0.06409778,  0.6861525 ,  0.13847667,\n          0.9993224 , -0.44088075, -0.45670676, -0.13370354,  0.98772573,\n          0.9350973 ,  0.31762093, -0.99954987,  0.55943996,  0.9997631 ,\n          0.9636252 ,  0.95760286,  0.99806637, -0.86333483, -0.15133414,\n          0.44242534, -0.5909661 ,  0.95894957,  0.08147977,  0.65070283,\n         -0.9993471 , -0.98860973,  0.21382894, -0.99164164,  0.98398817,\n          0.42847845,  0.36735174,  0.48969874,  0.32941306, -0.0985625 ,\n         -0.54846966, -0.99837136, -0.68746984,  0.40706685, -0.5311962 ,\n          0.01643281, -0.99999624, -0.96124387,  0.58728766,  0.2738764 ,\n         -0.00965518,  0.02030765,  0.18535723, -0.96001434,  0.9996797 ,\n         -0.9083399 , -0.06164398,  0.06389609,  0.04343956, -0.02475271,\n         -0.23477592,  0.95437866,  0.879833  , -0.00605903,  0.101081  ,\n         -0.4689715 ,  0.5305971 ]], dtype=float32)>,\n 'sequence_output': <tf.Tensor: shape=(1, 128, 512), dtype=float32, numpy=\n array([[[ 0.23511666,  0.23933806,  0.96160096, ..., -0.15195382,\n           0.48546538,  0.1419298 ],\n         [-0.29213986, -0.00201881,  0.15782078, ...,  0.08533952,\n          -0.2985946 ,  0.84918064],\n         [-0.6170171 ,  0.50207806, -0.7398756 , ..., -0.1127771 ,\n          -0.24574274,  0.5936282 ],\n         ...,\n         [-0.34769815, -0.35758227, -0.07509895, ...,  0.37489656,\n           0.64939   ,  0.43757725],\n         [-0.3168409 , -0.6457372 ,  0.290061  , ...,  0.20891634,\n          -0.3318727 ,  0.5951468 ],\n         [-0.17559876, -0.19808492,  0.02444771, ...,  0.15382472,\n           0.43816245,  0.34695378]]], dtype=float32)>,\n 'encoder_outputs': [<tf.Tensor: shape=(1, 128, 512), dtype=float32, numpy=\n  array([[[-4.4349536e-02, -2.4375343e-01, -1.0285279e-01, ...,\n           -6.7170238e-01, -7.5664874e-03, -1.4167826e-01],\n          [-1.0907021e+00,  2.3293209e-01,  1.5026031e+00, ...,\n            1.4769730e-01, -1.4578462e-01,  4.0410763e-01],\n          [-7.0105739e-02,  4.6221155e-01,  3.8662440e-01, ...,\n           -2.0655555e-01,  3.7715220e-01, -1.0160927e-01],\n          ...,\n          [ 2.1141693e-01, -1.1607124e+00, -3.3525284e-04, ...,\n            4.7358835e-01, -1.0283655e-02,  6.5950948e-01],\n          [ 6.0385269e-01, -1.1313974e+00,  2.6647152e-02, ...,\n            6.4397538e-01,  1.2026048e-01,  8.2475215e-01],\n          [ 6.9481432e-01, -8.4656459e-01,  6.5594870e-01, ...,\n            5.4486811e-01,  4.4250786e-01, -7.0783660e-02]]], dtype=float32)>,\n  <tf.Tensor: shape=(1, 128, 512), dtype=float32, numpy=\n  array([[[ 0.02052519,  0.5451132 , -0.28088003, ..., -0.1343073 ,\n            0.19944999, -0.40495658],\n          [-0.9282486 ,  0.43089485,  0.87649584, ...,  0.67989206,\n           -0.22038995,  0.31777626],\n          [-0.36454028,  1.0979408 ,  0.2618954 , ...,  0.12234002,\n           -0.32033637,  0.21452034],\n          ...,\n          [-0.23560742, -0.34199664, -0.23323424, ...,  0.8269426 ,\n            0.1367145 ,  0.5324007 ],\n          [ 0.04087069, -0.23378058, -0.17420031, ...,  0.94437224,\n           -0.09082446,  0.7972646 ],\n          [ 0.17767988, -0.1158123 ,  0.37601352, ...,  0.7215142 ,\n            0.36517757, -0.00708923]]], dtype=float32)>,\n  <tf.Tensor: shape=(1, 128, 512), dtype=float32, numpy=\n  array([[[-0.27789888,  0.36525002,  0.2196234 , ..., -0.02321426,\n           -0.0571178 , -0.15690197],\n          [-0.80490285,  0.03947955,  0.89112127, ...,  0.6050661 ,\n           -0.37213823,  0.7509459 ],\n          [-0.85817415,  0.56406957, -0.29871613, ...,  0.17659268,\n           -0.28475744,  0.2980859 ],\n          ...,\n          [-0.5177729 , -0.7497349 , -0.5327261 , ...,  0.89067113,\n            0.31823534,  0.66195035],\n          [-0.621425  , -0.8204959 , -0.21776399, ...,  0.7670517 ,\n           -1.073296  ,  1.2012211 ],\n          [ 0.05322145, -0.09217327,  0.0320761 , ...,  0.75080055,\n            0.02722525, -0.01944953]]], dtype=float32)>,\n  <tf.Tensor: shape=(1, 128, 512), dtype=float32, numpy=\n  array([[[ 0.23511666,  0.23933806,  0.96160096, ..., -0.15195382,\n            0.48546538,  0.1419298 ],\n          [-0.29213986, -0.00201881,  0.15782078, ...,  0.08533952,\n           -0.2985946 ,  0.84918064],\n          [-0.6170171 ,  0.50207806, -0.7398756 , ..., -0.1127771 ,\n           -0.24574274,  0.5936282 ],\n          ...,\n          [-0.34769815, -0.35758227, -0.07509895, ...,  0.37489656,\n            0.64939   ,  0.43757725],\n          [-0.3168409 , -0.6457372 ,  0.290061  , ...,  0.20891634,\n           -0.3318727 ,  0.5951468 ],\n          [-0.17559876, -0.19808492,  0.02444771, ...,  0.15382472,\n            0.43816245,  0.34695378]]], dtype=float32)>]}"
     },
     "execution_count": 21,
     "metadata": {},
     "output_type": "execute_result"
    }
   ],
   "source": [
    "bert_results = bert_model(text_preprocessed)\n",
    "bert_results"
   ],
   "metadata": {
    "collapsed": false,
    "pycharm": {
     "name": "#%%\n"
    }
   }
  },
  {
   "cell_type": "code",
   "execution_count": 22,
   "outputs": [
    {
     "name": "stdout",
     "output_type": "stream",
     "text": [
      "Loaded BERT: https://hub.tensorflow.google.cn/tensorflow/small_bert/bert_en_uncased_L-4_H-512_A-8/1\n",
      "Keys       : ['default', 'pooled_output', 'sequence_output', 'encoder_outputs']\n",
      "default shape:(1, 512)\n",
      "Pooled Outputs Shape:(1, 512)\n",
      "Sequence Outputs Shape:(1, 128, 512)\n",
      "Encoder Outputs Shape:(4, 1, 128, 512)\n"
     ]
    }
   ],
   "source": [
    "print(f'Loaded BERT: {tfhub_handle_encoder}')\n",
    "print(f'Keys       : {list(bert_results.keys())}')\n",
    "print(f'default shape:{bert_results[\"default\"].shape}')\n",
    "print(f'Pooled Outputs Shape:{bert_results[\"pooled_output\"].shape}')\n",
    "# print(f'Pooled Outputs Values:{bert_results[\"pooled_output\"][0, :12]}')\n",
    "print(f'Sequence Outputs Shape:{bert_results[\"sequence_output\"].shape}')\n",
    "# print(f'Sequence Outputs Values:{bert_results[\"sequence_output\"][0, :12]}')\n",
    "print(f'Encoder Outputs Shape:{np.array(bert_results[\"encoder_outputs\"]).shape}')\n",
    "# pooled_output 将input sequence表示为一个整体 维度是[batch_size, hidden] 这是整个句子的一个embedding\n",
    "# sequence output 表示了每个token的embedding 维度是[batch_size, seq_len, hidden] 是每个token的embedding\n",
    "# encoder_output 表示encoder中每个Transformer blocks的中间隐层状态 [block_num, batch_size, seq_len, hidden] block_num代表了transformer encoder的个数\n",
    "#                encoder_outputs[-1] == sequence_output"
   ],
   "metadata": {
    "collapsed": false,
    "pycharm": {
     "name": "#%%\n"
    }
   }
  },
  {
   "cell_type": "code",
   "execution_count": 45,
   "outputs": [],
   "source": [
    "class TextClassificationModel(Model):\n",
    "    def __init__(self, dropout = 0.1):\n",
    "        super(TextClassificationModel, self).__init__()\n",
    "        self.dropout = dropout\n",
    "        self.preprocessing_layer = hub.KerasLayer(tfhub_handle_preprocess, name = 'preprocessing')\n",
    "        self.encoder = hub.KerasLayer(tfhub_handle_encoder, trainable=True, name = 'BERT_encoder')\n",
    "        # 将bert处理后的内容当做embedding进行下游任务\n",
    "        self.dropout_layer = keras.layers.Dropout(self.dropout)\n",
    "        self.output_proj = keras.layers.Dense(units=1, activation=None, name='classifier')\n",
    "\n",
    "    def call(self, inputs, training=None, mask=None):\n",
    "        # [batch, seq_len] seq_len是不同句子的长度\n",
    "\n",
    "        preprocessed = self.preprocessing_layer(inputs)\n",
    "        # 包含了input_word_ids input_type_ids input_mask 每个维度都是[batch, max_seq_len] padding过了\n",
    "        encoded = self.encoder(preprocessed)\n",
    "        # 包含了pooled_output encoder_outputs sequence_output\n",
    "        x = encoded['pooled_output']\n",
    "        # [batch, hidden] pooled_output将整个句子表示为一个向量 没有seq_len\n",
    "        x = self.dropout_layer(x)\n",
    "        y = self.output_proj(x)\n",
    "        # [batch, 1]\n",
    "        return y"
   ],
   "metadata": {
    "collapsed": false,
    "pycharm": {
     "name": "#%%\n"
    }
   }
  },
  {
   "cell_type": "code",
   "execution_count": 46,
   "outputs": [],
   "source": [
    "model = TextClassificationModel(dropout=0.1)"
   ],
   "metadata": {
    "collapsed": false,
    "pycharm": {
     "name": "#%%\n"
    }
   }
  },
  {
   "cell_type": "code",
   "execution_count": 47,
   "outputs": [],
   "source": [
    "model.inputs = keras.layers.Input(shape=(), dtype=tf.string, name='text')"
   ],
   "metadata": {
    "collapsed": false,
    "pycharm": {
     "name": "#%%\n"
    }
   }
  },
  {
   "cell_type": "code",
   "execution_count": 48,
   "outputs": [],
   "source": [
    "# test\n",
    "test_input = tf.constant([\"I don't know how to study tensorflow.\", \"can you teach me?\"], dtype=tf.string)\n",
    "output = model(test_input)"
   ],
   "metadata": {
    "collapsed": false,
    "pycharm": {
     "name": "#%%\n"
    }
   }
  },
  {
   "cell_type": "code",
   "execution_count": 49,
   "outputs": [
    {
     "data": {
      "text/plain": "<tf.Tensor: shape=(2, 1), dtype=float32, numpy=\narray([[0.842085 ],\n       [1.5214821]], dtype=float32)>"
     },
     "execution_count": 49,
     "metadata": {},
     "output_type": "execute_result"
    }
   ],
   "source": [
    "output"
   ],
   "metadata": {
    "collapsed": false,
    "pycharm": {
     "name": "#%%\n"
    }
   }
  },
  {
   "cell_type": "code",
   "execution_count": 50,
   "outputs": [
    {
     "data": {
      "image/png": "[encoded data removed]",
      "text/plain": "<IPython.core.display.Image object>"
     },
     "execution_count": 50,
     "metadata": {},
     "output_type": "execute_result"
    }
   ],
   "source": [
    "tf.keras.utils.plot_model(model)"
   ],
   "metadata": {
    "collapsed": false,
    "pycharm": {
     "name": "#%%\n"
    }
   }
  },
  {
   "cell_type": "code",
   "execution_count": 52,
   "outputs": [],
   "source": [
    "loss = keras.losses.BinaryCrossentropy(from_logits=True) # 由于是二分类且最后一层全连接层没有加入激活函数 所以from_logits=True\n",
    "metrics = keras.metrics.BinaryAccuracy()"
   ],
   "metadata": {
    "collapsed": false,
    "pycharm": {
     "name": "#%%\n"
    }
   }
  },
  {
   "cell_type": "code",
   "execution_count": 54,
   "outputs": [],
   "source": [
    "# 使用AdamW作为优化器\n",
    "# 学习率先warmup再进行衰减\n",
    "epochs = 5\n",
    "steps_per_epoch = tf.data.experimental.cardinality(train_ds).numpy() # 获取数据集的基数???\n",
    "num_train_steps = steps_per_epoch * epochs\n",
    "num_warmup_steps = int(0.1 * num_train_steps) # 前10%进行warmup\n",
    "\n",
    "init_lr = 3e-5\n",
    "optimizer = optimization.create_optimizer(init_lr=init_lr,\n",
    "                                          num_train_steps=num_train_steps,\n",
    "                                          num_warmup_steps=num_warmup_steps,\n",
    "                                          optimizer_type='adamw')"
   ],
   "metadata": {
    "collapsed": false,
    "pycharm": {
     "name": "#%%\n"
    }
   }
  },
  {
   "cell_type": "code",
   "execution_count": 55,
   "outputs": [],
   "source": [
    "model.compile(\n",
    "    optimizer=optimizer,\n",
    "    loss=loss,\n",
    "    metrics=metrics\n",
    ")"
   ],
   "metadata": {
    "collapsed": false,
    "pycharm": {
     "name": "#%%\n"
    }
   }
  },
  {
   "cell_type": "code",
   "execution_count": 59,
   "outputs": [
    {
     "name": "stdout",
     "output_type": "stream",
     "text": [
      "Epoch 1/5\n",
      "625/625 [==============================] - 90s 136ms/step - loss: 0.4834 - binary_accuracy: 0.7430 - val_loss: 0.3694 - val_binary_accuracy: 0.8238\n",
      "Epoch 2/5\n",
      "625/625 [==============================] - 84s 135ms/step - loss: 0.3240 - binary_accuracy: 0.8558 - val_loss: 0.3876 - val_binary_accuracy: 0.8304\n",
      "Epoch 3/5\n",
      "625/625 [==============================] - 85s 135ms/step - loss: 0.2436 - binary_accuracy: 0.8978 - val_loss: 0.3870 - val_binary_accuracy: 0.8494\n",
      "Epoch 4/5\n",
      "625/625 [==============================] - 85s 135ms/step - loss: 0.1859 - binary_accuracy: 0.9268 - val_loss: 0.4455 - val_binary_accuracy: 0.8538\n",
      "Epoch 5/5\n",
      "625/625 [==============================] - 85s 135ms/step - loss: 0.1426 - binary_accuracy: 0.9461 - val_loss: 0.4832 - val_binary_accuracy: 0.8510\n"
     ]
    }
   ],
   "source": [
    "history = model.fit(x = train_ds, validation_data=val_ds, epochs=epochs) # 用dataset对象做x和validation_data"
   ],
   "metadata": {
    "collapsed": false,
    "pycharm": {
     "name": "#%%\n"
    }
   }
  },
  {
   "cell_type": "code",
   "execution_count": 60,
   "outputs": [
    {
     "name": "stdout",
     "output_type": "stream",
     "text": [
      "782/782 [==============================] - 66s 84ms/step - loss: 0.1647 - binary_accuracy: 0.9473\n",
      "Loss: 0.16467756032943726\n",
      "Accuracy: 0.9473199844360352\n"
     ]
    }
   ],
   "source": [
    "# 测试\n",
    "loss, accuracy = model.evaluate(x = test_ds)\n",
    "print(f'Loss: {loss}')\n",
    "print(f'Accuracy: {accuracy}')"
   ],
   "metadata": {
    "collapsed": false,
    "pycharm": {
     "name": "#%%\n"
    }
   }
  },
  {
   "cell_type": "code",
   "execution_count": 61,
   "outputs": [
    {
     "data": {
      "text/plain": "dict_keys(['loss', 'binary_accuracy', 'val_loss', 'val_binary_accuracy'])"
     },
     "execution_count": 61,
     "metadata": {},
     "output_type": "execute_result"
    }
   ],
   "source": [
    "history.history.keys()"
   ],
   "metadata": {
    "collapsed": false,
    "pycharm": {
     "name": "#%%\n"
    }
   }
  },
  {
   "cell_type": "code",
   "execution_count": 62,
   "outputs": [],
   "source": [
    "acc = history.history['binary_accuracy']\n",
    "val_acc = history.history['val_binary_accuracy']\n",
    "loss = history.history['loss']\n",
    "val_loss = history.history['val_loss']"
   ],
   "metadata": {
    "collapsed": false,
    "pycharm": {
     "name": "#%%\n"
    }
   }
  },
  {
   "cell_type": "code",
   "execution_count": 64,
   "outputs": [
    {
     "data": {
      "text/plain": "<Figure size 432x288 with 2 Axes>",
      "image/png": "[encoded data removed]"
     },
     "metadata": {
      "needs_background": "light"
     },
     "output_type": "display_data"
    }
   ],
   "source": [
    "plt.subplot(1,2,1)\n",
    "plt.plot(acc, label = 'Train Accuracy')\n",
    "plt.plot(val_acc, label = 'Valid Accuracy')\n",
    "plt.title('Train and Valid ACC')\n",
    "plt.legend()\n",
    "\n",
    "plt.subplot(1,2,2)\n",
    "plt.plot(loss, label = 'Train Loss')\n",
    "plt.plot(val_loss, label = 'Valid Loss')\n",
    "plt.title('Train and Valid Loss')\n",
    "plt.legend()\n",
    "plt.show()"
   ],
   "metadata": {
    "collapsed": false,
    "pycharm": {
     "name": "#%%\n"
    }
   }
  },
  {
   "cell_type": "code",
   "execution_count": 65,
   "outputs": [
    {
     "data": {
      "text/plain": "'./tensorflow_study/bert_exp/data_dir/'"
     },
     "execution_count": 65,
     "metadata": {},
     "output_type": "execute_result"
    }
   ],
   "source": [],
   "metadata": {
    "collapsed": false,
    "pycharm": {
     "name": "#%%\n"
    }
   }
  },
  {
   "cell_type": "code",
   "execution_count": 66,
   "outputs": [
    {
     "name": "stderr",
     "output_type": "stream",
     "text": [
      "WARNING:absl:Found untraced functions such as restored_function_body, restored_function_body, restored_function_body, restored_function_body, restored_function_body while saving (showing 5 of 124). These functions will not be directly callable after loading.\n"
     ]
    }
   ],
   "source": [
    "# 保存模型\n",
    "dataset_name = 'imdb'\n",
    "saved_model_path = './tensorflow_study/bert_exp/model_dir/imdb_bert'\n",
    "\n",
    "model.save(filepath=saved_model_path, include_optimizer=False)"
   ],
   "metadata": {
    "collapsed": false,
    "pycharm": {
     "name": "#%%\n"
    }
   }
  },
  {
   "cell_type": "code",
   "execution_count": 67,
   "outputs": [],
   "source": [
    "reloaded_model = tf.saved_model.load(saved_model_path)"
   ],
   "metadata": {
    "collapsed": false,
    "pycharm": {
     "name": "#%%\n"
    }
   }
  },
  {
   "cell_type": "code",
   "execution_count": 69,
   "outputs": [
    {
     "name": "stdout",
     "output_type": "stream",
     "text": [
      "Results from the saved model:\n",
      "input: this is such an amazing movie! : score: 0.999860\n",
      "input: The movie was great!           : score: 0.997062\n",
      "input: The movie was meh.             : score: 0.948427\n",
      "input: The movie was okish.           : score: 0.030093\n",
      "input: The movie was terrible...      : score: 0.000924\n",
      "input: I think it can make progress   : score: 0.645539\n",
      "input: I don't want to see it again!  : score: 0.882844\n",
      "input: I don't want to see it again.  : score: 0.782646\n",
      "\n",
      "Results from the model in memory:\n",
      "input: this is such an amazing movie! : score: 0.999860\n",
      "input: The movie was great!           : score: 0.997062\n",
      "input: The movie was meh.             : score: 0.948427\n",
      "input: The movie was okish.           : score: 0.030093\n",
      "input: The movie was terrible...      : score: 0.000924\n",
      "input: I think it can make progress   : score: 0.645539\n",
      "input: I don't want to see it again!  : score: 0.882844\n",
      "input: I don't want to see it again.  : score: 0.782646\n",
      "\n"
     ]
    }
   ],
   "source": [
    "def print_my_examples(inputs, results):\n",
    "  result_for_printing = \\\n",
    "    [f'input: {inputs[i]:<30} : score: {results[i][0]:.6f}'\n",
    "                         for i in range(len(inputs))]\n",
    "  print(*result_for_printing, sep='\\n')\n",
    "  print()\n",
    "\n",
    "\n",
    "examples = [\n",
    "    'this is such an amazing movie!',\n",
    "    'The movie was great!',\n",
    "    'The movie was meh.',\n",
    "    'The movie was okish.',\n",
    "    'The movie was terrible...',\n",
    "    'I think it can make progress',\n",
    "    'I don\\'t want to see it again!',\n",
    "    'I don\\'t want to see it again.'\n",
    "]\n",
    "\n",
    "reloaded_results = tf.sigmoid(reloaded_model(tf.constant(examples))) # 得到概率\n",
    "original_results = tf.sigmoid(model(tf.constant(examples))) # 得到概率\n",
    "\n",
    "print('Results from the saved model:')\n",
    "print_my_examples(examples, reloaded_results)\n",
    "print('Results from the model in memory:')\n",
    "print_my_examples(examples, original_results)"
   ],
   "metadata": {
    "collapsed": false,
    "pycharm": {
     "name": "#%%\n"
    }
   }
  },
  {
   "cell_type": "code",
   "execution_count": 75,
   "outputs": [
    {
     "name": "stdout",
     "output_type": "stream",
     "text": [
      "input: this is such an amazing movie! : score: 0.999860\n",
      "input: The movie was great!           : score: 0.997062\n",
      "input: The movie was meh.             : score: 0.948427\n",
      "input: The movie was okish.           : score: 0.030093\n",
      "input: The movie was terrible...      : score: 0.000924\n",
      "input: I think it can make progress   : score: 0.645539\n",
      "input: I don't want to see it again!  : score: 0.882844\n",
      "input: I don't want to see it again.  : score: 0.782646\n",
      "\n"
     ]
    }
   ],
   "source": [
    "# tf serving 不是很懂\n",
    "serving_results = reloaded_model \\\n",
    "            .signatures['serving_default'](tf.constant(examples))\n",
    "\n",
    "serving_results = tf.sigmoid(serving_results['output_1'])\n",
    "\n",
    "print_my_examples(examples, serving_results)"
   ],
   "metadata": {
    "collapsed": false,
    "pycharm": {
     "name": "#%%\n"
    }
   }
  }
 ],
 "metadata": {
  "kernelspec": {
   "display_name": "Python 3",
   "language": "python",
   "name": "python3"
  },
  "language_info": {
   "codemirror_mode": {
    "name": "ipython",
    "version": 2
   },
   "file_extension": ".py",
   "mimetype": "text/x-python",
   "name": "python",
   "nbconvert_exporter": "python",
   "pygments_lexer": "ipython2",
   "version": "2.7.6"
  }
 },
 "nbformat": 4,
 "nbformat_minor": 0
}