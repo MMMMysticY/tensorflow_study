{
 "cells": [
  {
   "cell_type": "markdown",
   "metadata": {
    "collapsed": true,
    "pycharm": {
     "name": "#%% md\n"
    }
   },
   "source": [
    "# Decoding的方法\n",
    "在自回归auto-regressive生成性的语言模型中，step K token预测的概率取决于到K-1时刻的token情况\n",
    "这种decode模式中，有一些方法如：\n",
    "1. Beam search\n",
    "2. Greedy\n",
    "3. Top-K\n",
    "4. Top-P\n",
    "\n",
    "Beam search通过搜索每个时间步概率最高的num_beams进行后续搜索，这样得到总体最高的值\n",
    "Top-K sampling top-k采样仅采用概率最高的K个进行生成\n",
    "Top-P sampling top-p采样使用累计概率和为p的进行后续使用\n",
    "\n",
    "Beam Search适合机器翻译任务\n",
    "Top-K Top-P适合类似于故事生成的任务"
   ]
  },
  {
   "cell_type": "code",
   "execution_count": 1,
   "outputs": [],
   "source": [
    "import os\n",
    "import numpy as np\n",
    "import matplotlib.pyplot as plt\n",
    "\n",
    "import tensorflow as tf\n",
    "import tensorflow.keras as keras\n",
    "\n",
    "from official import nlp\n",
    "from official.nlp.modeling.ops import sampling_module\n",
    "from official.nlp.modeling.ops import beam_search"
   ],
   "metadata": {
    "collapsed": false,
    "pycharm": {
     "name": "#%%\n"
    }
   }
  },
  {
   "cell_type": "code",
   "execution_count": 2,
   "outputs": [],
   "source": [
    "tf.get_logger().setLevel('ERROR')\n",
    "os.environ['CUDA_VISIBLE_DEVICES'] = '1' # 使用 GPU 1\n",
    "os.environ['TF_FORCE_GPU_ALLOW_GROWTH'] = 'true'\n",
    "physical_devices = tf.config.list_physical_devices(\"GPU\")\n",
    "tf.config.experimental.set_memory_growth(physical_devices[0],True)\n",
    "logical_devices = tf.config.list_logical_devices(\"GPU\")"
   ],
   "metadata": {
    "collapsed": false,
    "pycharm": {
     "name": "#%%\n"
    }
   }
  },
  {
   "cell_type": "code",
   "execution_count": 3,
   "outputs": [],
   "source": [
    "# 初始化一个transformer模型的参数\n",
    "params = {}\n",
    "params['num_heads'] = 2\n",
    "params['num_layers'] = 2\n",
    "params['batch_size'] = 2\n",
    "params['n_dims'] = 256\n",
    "params['max_decode_length'] = 4"
   ],
   "metadata": {
    "collapsed": false,
    "pycharm": {
     "name": "#%%\n"
    }
   }
  },
  {
   "cell_type": "code",
   "execution_count": 4,
   "outputs": [
    {
     "name": "stdout",
     "output_type": "stream",
     "text": [
      "cache key shape for layer 1 : (2, 4, 2, 128)\n"
     ]
    }
   ],
   "source": [
    "# 初始化一个cache空间 本质上是用来保存先前计算的hidden-states(self-attention和cross-attention的key value)\n",
    "cache = {\n",
    "    'layer_%d' % layer: {\n",
    "        'k': tf.zeros([params['batch_size'], params['max_decode_length'], params['num_heads'], int(params['n_dims']/params['num_heads'])], dtype=tf.float32),\n",
    "        'v': tf.zeros([params['batch_size'], params['max_decode_length'], params['num_heads'], int(params['n_dims']/params['num_heads'])], dtype=tf.float32)\n",
    "        } for layer in range(params['num_layers'])\n",
    "    }\n",
    "print(\"cache key shape for layer 1 :\", cache['layer_1']['k'].shape)\n",
    "# 这个cache空间为了self-attention 和 cross-attention准备的 维度就是[batch, seq_len, num-head, d_model]"
   ],
   "metadata": {
    "collapsed": false,
    "pycharm": {
     "name": "#%%\n"
    }
   }
  },
  {
   "cell_type": "code",
   "execution_count": 5,
   "outputs": [],
   "source": [
    "# 定义length normalization 用来归一化最后生成的scores\n",
    "def length_norm(length, dtype):\n",
    "  \"\"\"Return length normalization factor.\"\"\"\n",
    "  return tf.pow(((5. + tf.cast(length, dtype)) / 6.), 0.0)"
   ],
   "metadata": {
    "collapsed": false,
    "pycharm": {
     "name": "#%%\n"
    }
   }
  },
  {
   "cell_type": "code",
   "execution_count": 7,
   "outputs": [
    {
     "data": {
      "text/plain": "TensorShape([2, 4, 3])"
     },
     "execution_count": 7,
     "metadata": {},
     "output_type": "execute_result"
    }
   ],
   "source": [
    "# 模拟一个transformer\n",
    "probabilities = tf.constant([[[0.3, 0.4, 0.3], [0.3, 0.3, 0.4],\n",
    "                              [0.1, 0.1, 0.8], [0.1, 0.1, 0.8]],\n",
    "                            [[0.2, 0.5, 0.3], [0.2, 0.7, 0.1],\n",
    "                              [0.1, 0.1, 0.8], [0.1, 0.1, 0.8]]])\n",
    "probabilities.shape\n",
    "# [batch_size = 2, seq_len = 4, vocab_size = 3]"
   ],
   "metadata": {
    "collapsed": false,
    "pycharm": {
     "name": "#%%\n"
    }
   }
  },
  {
   "cell_type": "code",
   "execution_count": 8,
   "outputs": [],
   "source": [
    "def model_fn(i):\n",
    "  return probabilities[:, i, :]\n",
    "# model_fn模拟了一个decoder 输入i返回值是[batch_size, 1, vocab_size]"
   ],
   "metadata": {
    "collapsed": false,
    "pycharm": {
     "name": "#%%\n"
    }
   }
  },
  {
   "cell_type": "code",
   "execution_count": 9,
   "outputs": [],
   "source": [
    "def _symbols_to_logits_fn():\n",
    "  \"\"\"Calculates logits of the next tokens.\"\"\"\n",
    "  # 对概率求log?\n",
    "  def symbols_to_logits_fn(ids, i, temp_cache):\n",
    "    del ids\n",
    "    logits = tf.cast(tf.math.log(model_fn(i)), tf.float32)\n",
    "    return logits, temp_cache\n",
    "  return symbols_to_logits_fn"
   ],
   "metadata": {
    "collapsed": false,
    "pycharm": {
     "name": "#%%\n"
    }
   }
  },
  {
   "cell_type": "markdown",
   "source": [
    "# greedy search\n",
    "greedy search选择概率最高的结果进行下一步推理\n",
    "类似于argmax\n",
    "方法是使用sampling_module.SamplingModule()\n"
   ],
   "metadata": {
    "collapsed": false,
    "pycharm": {
     "name": "#%% md\n"
    }
   }
  },
  {
   "cell_type": "code",
   "execution_count": 10,
   "outputs": [
    {
     "name": "stdout",
     "output_type": "stream",
     "text": [
      "Greedy Decoded Ids: tf.Tensor(\n",
      "[[9 1 2 2 2]\n",
      " [1 1 1 2 2]], shape=(2, 5), dtype=int32)\n"
     ]
    }
   ],
   "source": [
    "greedy_obj = sampling_module.SamplingModule(\n",
    "    length_normalization_fn=None,\n",
    "    dtype=tf.float32,\n",
    "    symbols_to_logits_fn=_symbols_to_logits_fn(),\n",
    "    vocab_size=3,\n",
    "    max_decode_length=params['max_decode_length'],\n",
    "    eos_id=10,\n",
    "    padded_decode=False)\n",
    "ids, _ = greedy_obj.generate(\n",
    "    initial_ids=tf.constant([9, 1]), initial_cache=cache)\n",
    "print(\"Greedy Decoded Ids:\", ids)\n",
    "# greedy的方法就是完全按照上面所给的概率进行计算的\n",
    "# 即每次都选择了概率最高的token下标"
   ],
   "metadata": {
    "collapsed": false,
    "pycharm": {
     "name": "#%%\n"
    }
   }
  },
  {
   "cell_type": "code",
   "execution_count": 11,
   "outputs": [
    {
     "name": "stdout",
     "output_type": "stream",
     "text": [
      "top-k sampled Ids: tf.Tensor(\n",
      "[[9 1 0 0 2]\n",
      " [1 2 1 2 2]], shape=(2, 5), dtype=int32)\n"
     ]
    }
   ],
   "source": [
    "top_k_obj = sampling_module.SamplingModule(\n",
    "    length_normalization_fn=length_norm,\n",
    "    dtype=tf.float32,\n",
    "    symbols_to_logits_fn=_symbols_to_logits_fn(),\n",
    "    vocab_size=3,\n",
    "    max_decode_length=params['max_decode_length'],\n",
    "    eos_id=10,\n",
    "    sample_temperature=tf.constant(1.0),\n",
    "    top_k=tf.constant(3),\n",
    "    padded_decode=False,\n",
    "    enable_greedy=False)\n",
    "ids, _ = top_k_obj.generate(\n",
    "    initial_ids=tf.constant([9, 1]), initial_cache=cache)\n",
    "print(\"top-k sampled Ids:\", ids)\n",
    "\n",
    "# top_k方法过滤概率最高的K个token进行实验，并在这k个间重新分配概率"
   ],
   "metadata": {
    "collapsed": false,
    "pycharm": {
     "name": "#%%\n"
    }
   }
  },
  {
   "cell_type": "code",
   "execution_count": 12,
   "outputs": [
    {
     "name": "stdout",
     "output_type": "stream",
     "text": [
      "top-p sampled Ids: tf.Tensor(\n",
      "[[9 2 1 2 1]\n",
      " [1 1 1 2 0]], shape=(2, 5), dtype=int32)\n"
     ]
    }
   ],
   "source": [
    "top_p_obj = sampling_module.SamplingModule(\n",
    "    length_normalization_fn=length_norm,\n",
    "    dtype=tf.float32,\n",
    "    symbols_to_logits_fn=_symbols_to_logits_fn(),\n",
    "    vocab_size=3,\n",
    "    max_decode_length=params['max_decode_length'],\n",
    "    eos_id=10,\n",
    "    sample_temperature=tf.constant(1.0),\n",
    "    top_p=tf.constant(0.9),\n",
    "    padded_decode=False,\n",
    "    enable_greedy=False)\n",
    "ids, _ = top_p_obj.generate(\n",
    "    initial_ids=tf.constant([9, 1]), initial_cache=cache)\n",
    "print(\"top-p sampled Ids:\", ids)\n",
    "# top-p和top-k不同的在于其选择累积分布概率和超过p的集合中的概率最小的token"
   ],
   "metadata": {
    "collapsed": false,
    "pycharm": {
     "name": "#%%\n"
    }
   }
  },
  {
   "cell_type": "code",
   "execution_count": 13,
   "outputs": [
    {
     "name": "stdout",
     "output_type": "stream",
     "text": [
      "cache key shape for layer 1 : (1, 4, 2, 256)\n",
      "Beam search ids: tf.Tensor(\n",
      "[[[9 0 1 2 2]\n",
      "  [9 1 2 2 2]]], shape=(1, 2, 5), dtype=int32)\n"
     ]
    }
   ],
   "source": [
    "beam_size = 2\n",
    "params['batch_size'] = 1\n",
    "beam_cache = {\n",
    "    'layer_%d' % layer: {\n",
    "        'k': tf.zeros([params['batch_size'], params['max_decode_length'], params['num_heads'], params['n_dims']], dtype=tf.float32),\n",
    "        'v': tf.zeros([params['batch_size'], params['max_decode_length'], params['num_heads'], params['n_dims']], dtype=tf.float32)\n",
    "        } for layer in range(params['num_layers'])\n",
    "    }\n",
    "print(\"cache key shape for layer 1 :\", beam_cache['layer_1']['k'].shape)\n",
    "ids, _ = beam_search.sequence_beam_search(\n",
    "    symbols_to_logits_fn=_symbols_to_logits_fn(),\n",
    "    initial_ids=tf.constant([9], tf.int32),\n",
    "    initial_cache=beam_cache,\n",
    "    vocab_size=3,\n",
    "    beam_size=beam_size,\n",
    "    alpha=0.6,\n",
    "    max_decode_length=params['max_decode_length'],\n",
    "    eos_id=10,\n",
    "    padded_decode=False,\n",
    "    dtype=tf.float32)\n",
    "print(\"Beam search ids:\", ids)\n",
    "# beam search通过选择每一步概率最高的beam_size个token进行后续 防止丢失掉总体概率最高的结果"
   ],
   "metadata": {
    "collapsed": false,
    "pycharm": {
     "name": "#%%\n"
    }
   }
  }
 ],
 "metadata": {
  "kernelspec": {
   "display_name": "Python 3",
   "language": "python",
   "name": "python3"
  },
  "language_info": {
   "codemirror_mode": {
    "name": "ipython",
    "version": 2
   },
   "file_extension": ".py",
   "mimetype": "text/x-python",
   "name": "python",
   "nbconvert_exporter": "python",
   "pygments_lexer": "ipython2",
   "version": "2.7.6"
  }
 },
 "nbformat": 4,
 "nbformat_minor": 0
}