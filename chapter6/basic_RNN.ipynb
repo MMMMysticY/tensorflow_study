{
 "cells": [
  {
   "cell_type": "markdown",
   "metadata": {
    "collapsed": true,
    "pycharm": {
     "name": "#%% md\n"
    }
   },
   "source": [
    "# keras 基本RNN\n",
    "keras.layers.SimpleRNN() 值得注意的是return_sequences参数 True:各时间步的ht都输出 False仅输出最后时间步的ht\n",
    "输入维度[batch, seq_len, feature]"
   ]
  },
  {
   "cell_type": "code",
   "execution_count": 1,
   "outputs": [],
   "source": [
    "import matplotlib.pyplot as plt\n",
    "import tensorflow as tf\n",
    "from sklearn.datasets import load_iris\n",
    "import os\n",
    "import pandas as pd\n",
    "import numpy as np\n",
    "import tensorflow.keras as keras\n",
    "from keras import Model\n",
    "from tensorflow.keras import Model\n",
    "from sklearn.preprocessing import MinMaxScaler\n",
    "from PIL import Image\n",
    "os.environ['CUDA_VISIBLE_DEVICES'] = '1' # 使用 GPU 1\n",
    "os.environ['TF_FORCE_GPU_ALLOW_GROWTH'] = 'true'\n",
    "physical_devices = tf.config.list_physical_devices(\"GPU\")\n",
    "tf.config.experimental.set_memory_growth(physical_devices[0],True)\n",
    "logical_devices = tf.config.list_logical_devices(\"GPU\")"
   ],
   "metadata": {
    "collapsed": false,
    "pycharm": {
     "name": "#%%\n"
    }
   }
  },
  {
   "cell_type": "markdown",
   "source": [
    "# 简单实验 用one-hot矩阵进行RNN实验"
   ],
   "metadata": {
    "collapsed": false,
    "pycharm": {
     "name": "#%% md\n"
    }
   }
  },
  {
   "cell_type": "code",
   "execution_count": 4,
   "outputs": [],
   "source": [
    "input_word = 'abcde'\n",
    "char2id = {'a':0, 'b':1, 'c':2, 'd':3, 'e':4}\n",
    "id2one_hot = {0 : [1., 0., 0., 0., 0.],\n",
    "              1:[0., 1., 0., 0., 0.],\n",
    "              2:[0., 0., 1., 0., 0.],\n",
    "              3:[0., 0., 0., 1., 0.],\n",
    "              4:[0., 0., 0., 0., 1.]}\n",
    "# one-hot编码 abcde"
   ],
   "metadata": {
    "collapsed": false,
    "pycharm": {
     "name": "#%%\n"
    }
   }
  },
  {
   "cell_type": "code",
   "execution_count": 21,
   "outputs": [],
   "source": [
    "x_train = [id2one_hot[char2id['a']], id2one_hot[char2id['b']], id2one_hot[char2id['c']], id2one_hot[char2id['d']], id2one_hot[char2id['e']]]\n",
    "y_train = [char2id['b'], char2id['c'], char2id['d'], char2id['e'], char2id['a']]"
   ],
   "metadata": {
    "collapsed": false,
    "pycharm": {
     "name": "#%%\n"
    }
   }
  },
  {
   "cell_type": "code",
   "execution_count": 22,
   "outputs": [],
   "source": [
    "np.random.seed(50)\n",
    "np.random.shuffle(x_train)\n",
    "np.random.seed(50)\n",
    "np.random.shuffle(y_train)\n",
    "tf.random.set_seed(50)"
   ],
   "metadata": {
    "collapsed": false,
    "pycharm": {
     "name": "#%%\n"
    }
   }
  },
  {
   "cell_type": "code",
   "execution_count": 26,
   "outputs": [
    {
     "name": "stdout",
     "output_type": "stream",
     "text": [
      "(5, 1, 5)\n",
      "(5, 1)\n"
     ]
    }
   ],
   "source": [
    "x_train = np.array(x_train).reshape((len(x_train), 1, 5))\n",
    "y_train = np.array(y_train).reshape(len(y_train), 1)\n",
    "print(x_train.shape)\n",
    "print(y_train.shape)"
   ],
   "metadata": {
    "collapsed": false,
    "pycharm": {
     "name": "#%%\n"
    }
   }
  },
  {
   "cell_type": "code",
   "execution_count": 27,
   "outputs": [],
   "source": [
    "model = keras.models.Sequential([\n",
    "    keras.layers.SimpleRNN(units=8),\n",
    "    keras.layers.Dense(5, activation='softmax')\n",
    "])"
   ],
   "metadata": {
    "collapsed": false,
    "pycharm": {
     "name": "#%%\n"
    }
   }
  },
  {
   "cell_type": "code",
   "execution_count": 28,
   "outputs": [],
   "source": [
    "model.compile(\n",
    "    optimizer=keras.optimizers.Adam(),\n",
    "    loss = keras.losses.SparseCategoricalCrossentropy(from_logits=False),\n",
    "    metrics=['sparse_categorical_accuracy']\n",
    ")"
   ],
   "metadata": {
    "collapsed": false,
    "pycharm": {
     "name": "#%%\n"
    }
   }
  },
  {
   "cell_type": "code",
   "execution_count": 29,
   "outputs": [],
   "source": [
    "checkpoint_save_path = 'tensorflow_study/chapter6/model_dir/rnn_one_hot_model.ckpt'\n",
    "\n",
    "cp_callback = keras.callbacks.ModelCheckpoint(\n",
    "    filepath=checkpoint_save_path,\n",
    "    save_weights_only=True,\n",
    "    save_best_only=True,\n",
    "    monitor='loss',\n",
    ")"
   ],
   "metadata": {
    "collapsed": false,
    "pycharm": {
     "name": "#%%\n"
    }
   }
  },
  {
   "cell_type": "code",
   "execution_count": 30,
   "outputs": [
    {
     "name": "stdout",
     "output_type": "stream",
     "text": [
      "Epoch 1/100\n",
      "3/3 [==============================] - 2s 49ms/step - loss: 1.5813 - sparse_categorical_accuracy: 0.2000\n",
      "Epoch 2/100\n",
      "3/3 [==============================] - 0s 12ms/step - loss: 1.5724 - sparse_categorical_accuracy: 0.2000\n",
      "Epoch 3/100\n",
      "3/3 [==============================] - 0s 12ms/step - loss: 1.5649 - sparse_categorical_accuracy: 0.2000\n",
      "Epoch 4/100\n",
      "3/3 [==============================] - 0s 12ms/step - loss: 1.5583 - sparse_categorical_accuracy: 0.2000\n",
      "Epoch 5/100\n",
      "3/3 [==============================] - 0s 12ms/step - loss: 1.5519 - sparse_categorical_accuracy: 0.2000\n",
      "Epoch 6/100\n",
      "3/3 [==============================] - 0s 12ms/step - loss: 1.5449 - sparse_categorical_accuracy: 0.2000\n",
      "Epoch 7/100\n",
      "3/3 [==============================] - 0s 12ms/step - loss: 1.5383 - sparse_categorical_accuracy: 0.2000\n",
      "Epoch 8/100\n",
      "3/3 [==============================] - 0s 13ms/step - loss: 1.5313 - sparse_categorical_accuracy: 0.2000\n",
      "Epoch 9/100\n",
      "3/3 [==============================] - 0s 15ms/step - loss: 1.5253 - sparse_categorical_accuracy: 0.2000\n",
      "Epoch 10/100\n",
      "3/3 [==============================] - 0s 11ms/step - loss: 1.5183 - sparse_categorical_accuracy: 0.2000\n",
      "Epoch 11/100\n",
      "3/3 [==============================] - 0s 12ms/step - loss: 1.5118 - sparse_categorical_accuracy: 0.2000\n",
      "Epoch 12/100\n",
      "3/3 [==============================] - 0s 12ms/step - loss: 1.5053 - sparse_categorical_accuracy: 0.2000\n",
      "Epoch 13/100\n",
      "3/3 [==============================] - 0s 13ms/step - loss: 1.4988 - sparse_categorical_accuracy: 0.2000\n",
      "Epoch 14/100\n",
      "3/3 [==============================] - 0s 14ms/step - loss: 1.4923 - sparse_categorical_accuracy: 0.4000\n",
      "Epoch 15/100\n",
      "3/3 [==============================] - 0s 13ms/step - loss: 1.4862 - sparse_categorical_accuracy: 0.4000\n",
      "Epoch 16/100\n",
      "3/3 [==============================] - 0s 11ms/step - loss: 1.4797 - sparse_categorical_accuracy: 0.6000\n",
      "Epoch 17/100\n",
      "3/3 [==============================] - 0s 11ms/step - loss: 1.4735 - sparse_categorical_accuracy: 0.6000\n",
      "Epoch 18/100\n",
      "3/3 [==============================] - 0s 13ms/step - loss: 1.4667 - sparse_categorical_accuracy: 0.6000\n",
      "Epoch 19/100\n",
      "3/3 [==============================] - 0s 14ms/step - loss: 1.4605 - sparse_categorical_accuracy: 0.6000\n",
      "Epoch 20/100\n",
      "3/3 [==============================] - 0s 11ms/step - loss: 1.4542 - sparse_categorical_accuracy: 0.6000\n",
      "Epoch 21/100\n",
      "3/3 [==============================] - 0s 11ms/step - loss: 1.4477 - sparse_categorical_accuracy: 0.6000\n",
      "Epoch 22/100\n",
      "3/3 [==============================] - 0s 12ms/step - loss: 1.4413 - sparse_categorical_accuracy: 0.6000\n",
      "Epoch 23/100\n",
      "3/3 [==============================] - 0s 13ms/step - loss: 1.4351 - sparse_categorical_accuracy: 0.6000\n",
      "Epoch 24/100\n",
      "3/3 [==============================] - 0s 11ms/step - loss: 1.4288 - sparse_categorical_accuracy: 0.6000\n",
      "Epoch 25/100\n",
      "3/3 [==============================] - 0s 11ms/step - loss: 1.4228 - sparse_categorical_accuracy: 0.6000\n",
      "Epoch 26/100\n",
      "3/3 [==============================] - 0s 11ms/step - loss: 1.4159 - sparse_categorical_accuracy: 0.6000\n",
      "Epoch 27/100\n",
      "3/3 [==============================] - 0s 11ms/step - loss: 1.4099 - sparse_categorical_accuracy: 0.6000\n",
      "Epoch 28/100\n",
      "3/3 [==============================] - 0s 11ms/step - loss: 1.4035 - sparse_categorical_accuracy: 0.6000\n",
      "Epoch 29/100\n",
      "3/3 [==============================] - 0s 12ms/step - loss: 1.3969 - sparse_categorical_accuracy: 0.6000\n",
      "Epoch 30/100\n",
      "3/3 [==============================] - 0s 12ms/step - loss: 1.3910 - sparse_categorical_accuracy: 0.6000\n",
      "Epoch 31/100\n",
      "3/3 [==============================] - 0s 10ms/step - loss: 1.3851 - sparse_categorical_accuracy: 0.6000\n",
      "Epoch 32/100\n",
      "3/3 [==============================] - 0s 12ms/step - loss: 1.3787 - sparse_categorical_accuracy: 0.6000\n",
      "Epoch 33/100\n",
      "3/3 [==============================] - 0s 11ms/step - loss: 1.3724 - sparse_categorical_accuracy: 0.6000\n",
      "Epoch 34/100\n",
      "3/3 [==============================] - 0s 11ms/step - loss: 1.3667 - sparse_categorical_accuracy: 0.6000\n",
      "Epoch 35/100\n",
      "3/3 [==============================] - 0s 12ms/step - loss: 1.3605 - sparse_categorical_accuracy: 0.6000\n",
      "Epoch 36/100\n",
      "3/3 [==============================] - 0s 11ms/step - loss: 1.3543 - sparse_categorical_accuracy: 0.6000\n",
      "Epoch 37/100\n",
      "3/3 [==============================] - 0s 12ms/step - loss: 1.3483 - sparse_categorical_accuracy: 0.6000\n",
      "Epoch 38/100\n",
      "3/3 [==============================] - 0s 13ms/step - loss: 1.3420 - sparse_categorical_accuracy: 0.6000\n",
      "Epoch 39/100\n",
      "3/3 [==============================] - 0s 13ms/step - loss: 1.3364 - sparse_categorical_accuracy: 0.6000\n",
      "Epoch 40/100\n",
      "3/3 [==============================] - 0s 12ms/step - loss: 1.3302 - sparse_categorical_accuracy: 0.6000\n",
      "Epoch 41/100\n",
      "3/3 [==============================] - 0s 11ms/step - loss: 1.3243 - sparse_categorical_accuracy: 0.6000\n",
      "Epoch 42/100\n",
      "3/3 [==============================] - 0s 13ms/step - loss: 1.3178 - sparse_categorical_accuracy: 0.6000\n",
      "Epoch 43/100\n",
      "3/3 [==============================] - 0s 11ms/step - loss: 1.3120 - sparse_categorical_accuracy: 0.6000\n",
      "Epoch 44/100\n",
      "3/3 [==============================] - 0s 11ms/step - loss: 1.3060 - sparse_categorical_accuracy: 0.6000\n",
      "Epoch 45/100\n",
      "3/3 [==============================] - 0s 11ms/step - loss: 1.2998 - sparse_categorical_accuracy: 0.6000\n",
      "Epoch 46/100\n",
      "3/3 [==============================] - 0s 12ms/step - loss: 1.2935 - sparse_categorical_accuracy: 0.6000\n",
      "Epoch 47/100\n",
      "3/3 [==============================] - 0s 12ms/step - loss: 1.2874 - sparse_categorical_accuracy: 0.6000\n",
      "Epoch 48/100\n",
      "3/3 [==============================] - 0s 11ms/step - loss: 1.2815 - sparse_categorical_accuracy: 0.6000\n",
      "Epoch 49/100\n",
      "3/3 [==============================] - 0s 11ms/step - loss: 1.2759 - sparse_categorical_accuracy: 0.6000\n",
      "Epoch 50/100\n",
      "3/3 [==============================] - 0s 12ms/step - loss: 1.2698 - sparse_categorical_accuracy: 0.6000\n",
      "Epoch 51/100\n",
      "3/3 [==============================] - 0s 12ms/step - loss: 1.2634 - sparse_categorical_accuracy: 0.6000\n",
      "Epoch 52/100\n",
      "3/3 [==============================] - 0s 13ms/step - loss: 1.2579 - sparse_categorical_accuracy: 0.6000\n",
      "Epoch 53/100\n",
      "3/3 [==============================] - 0s 11ms/step - loss: 1.2517 - sparse_categorical_accuracy: 0.6000\n",
      "Epoch 54/100\n",
      "3/3 [==============================] - 0s 12ms/step - loss: 1.2456 - sparse_categorical_accuracy: 0.6000\n",
      "Epoch 55/100\n",
      "3/3 [==============================] - 0s 11ms/step - loss: 1.2402 - sparse_categorical_accuracy: 0.6000\n",
      "Epoch 56/100\n",
      "3/3 [==============================] - 0s 12ms/step - loss: 1.2342 - sparse_categorical_accuracy: 0.6000\n",
      "Epoch 57/100\n",
      "3/3 [==============================] - 0s 14ms/step - loss: 1.2278 - sparse_categorical_accuracy: 0.6000\n",
      "Epoch 58/100\n",
      "3/3 [==============================] - 0s 14ms/step - loss: 1.2217 - sparse_categorical_accuracy: 0.6000\n",
      "Epoch 59/100\n",
      "3/3 [==============================] - 0s 13ms/step - loss: 1.2164 - sparse_categorical_accuracy: 0.6000\n",
      "Epoch 60/100\n",
      "3/3 [==============================] - 0s 11ms/step - loss: 1.2108 - sparse_categorical_accuracy: 0.6000\n",
      "Epoch 61/100\n",
      "3/3 [==============================] - 0s 11ms/step - loss: 1.2045 - sparse_categorical_accuracy: 0.6000\n",
      "Epoch 62/100\n",
      "3/3 [==============================] - 0s 11ms/step - loss: 1.1986 - sparse_categorical_accuracy: 0.6000\n",
      "Epoch 63/100\n",
      "3/3 [==============================] - 0s 12ms/step - loss: 1.1925 - sparse_categorical_accuracy: 0.8000\n",
      "Epoch 64/100\n",
      "3/3 [==============================] - 0s 12ms/step - loss: 1.1871 - sparse_categorical_accuracy: 0.8000\n",
      "Epoch 65/100\n",
      "3/3 [==============================] - 0s 11ms/step - loss: 1.1809 - sparse_categorical_accuracy: 0.8000\n",
      "Epoch 66/100\n",
      "3/3 [==============================] - 0s 13ms/step - loss: 1.1750 - sparse_categorical_accuracy: 0.8000\n",
      "Epoch 67/100\n",
      "3/3 [==============================] - 0s 11ms/step - loss: 1.1699 - sparse_categorical_accuracy: 0.8000\n",
      "Epoch 68/100\n",
      "3/3 [==============================] - 0s 13ms/step - loss: 1.1637 - sparse_categorical_accuracy: 0.8000\n",
      "Epoch 69/100\n",
      "3/3 [==============================] - 0s 11ms/step - loss: 1.1576 - sparse_categorical_accuracy: 0.8000\n",
      "Epoch 70/100\n",
      "3/3 [==============================] - 0s 12ms/step - loss: 1.1517 - sparse_categorical_accuracy: 0.8000\n",
      "Epoch 71/100\n",
      "3/3 [==============================] - 0s 13ms/step - loss: 1.1461 - sparse_categorical_accuracy: 0.8000\n",
      "Epoch 72/100\n",
      "3/3 [==============================] - 0s 12ms/step - loss: 1.1403 - sparse_categorical_accuracy: 0.8000\n",
      "Epoch 73/100\n",
      "3/3 [==============================] - 0s 11ms/step - loss: 1.1350 - sparse_categorical_accuracy: 0.8000\n",
      "Epoch 74/100\n",
      "3/3 [==============================] - 0s 12ms/step - loss: 1.1292 - sparse_categorical_accuracy: 1.0000\n",
      "Epoch 75/100\n",
      "3/3 [==============================] - 0s 11ms/step - loss: 1.1234 - sparse_categorical_accuracy: 1.0000\n",
      "Epoch 76/100\n",
      "3/3 [==============================] - 0s 12ms/step - loss: 1.1180 - sparse_categorical_accuracy: 1.0000\n",
      "Epoch 77/100\n",
      "3/3 [==============================] - 0s 13ms/step - loss: 1.1122 - sparse_categorical_accuracy: 1.0000\n",
      "Epoch 78/100\n",
      "3/3 [==============================] - 0s 12ms/step - loss: 1.1066 - sparse_categorical_accuracy: 1.0000\n",
      "Epoch 79/100\n",
      "3/3 [==============================] - 0s 12ms/step - loss: 1.1011 - sparse_categorical_accuracy: 1.0000\n",
      "Epoch 80/100\n",
      "3/3 [==============================] - 0s 12ms/step - loss: 1.0956 - sparse_categorical_accuracy: 1.0000\n",
      "Epoch 81/100\n",
      "3/3 [==============================] - 0s 13ms/step - loss: 1.0901 - sparse_categorical_accuracy: 1.0000\n",
      "Epoch 82/100\n",
      "3/3 [==============================] - 0s 11ms/step - loss: 1.0845 - sparse_categorical_accuracy: 1.0000\n",
      "Epoch 83/100\n",
      "3/3 [==============================] - 0s 11ms/step - loss: 1.0788 - sparse_categorical_accuracy: 1.0000\n",
      "Epoch 84/100\n",
      "3/3 [==============================] - 0s 11ms/step - loss: 1.0734 - sparse_categorical_accuracy: 1.0000\n",
      "Epoch 85/100\n",
      "3/3 [==============================] - 0s 11ms/step - loss: 1.0676 - sparse_categorical_accuracy: 1.0000\n",
      "Epoch 86/100\n",
      "3/3 [==============================] - 0s 13ms/step - loss: 1.0620 - sparse_categorical_accuracy: 1.0000\n",
      "Epoch 87/100\n",
      "3/3 [==============================] - 0s 11ms/step - loss: 1.0567 - sparse_categorical_accuracy: 1.0000\n",
      "Epoch 88/100\n",
      "3/3 [==============================] - 0s 12ms/step - loss: 1.0512 - sparse_categorical_accuracy: 1.0000\n",
      "Epoch 89/100\n",
      "3/3 [==============================] - 0s 12ms/step - loss: 1.0459 - sparse_categorical_accuracy: 1.0000\n",
      "Epoch 90/100\n",
      "3/3 [==============================] - 0s 11ms/step - loss: 1.0402 - sparse_categorical_accuracy: 1.0000\n",
      "Epoch 91/100\n",
      "3/3 [==============================] - 0s 12ms/step - loss: 1.0346 - sparse_categorical_accuracy: 1.0000\n",
      "Epoch 92/100\n",
      "3/3 [==============================] - 0s 12ms/step - loss: 1.0293 - sparse_categorical_accuracy: 1.0000\n",
      "Epoch 93/100\n",
      "3/3 [==============================] - 0s 12ms/step - loss: 1.0240 - sparse_categorical_accuracy: 1.0000\n",
      "Epoch 94/100\n",
      "3/3 [==============================] - 0s 11ms/step - loss: 1.0183 - sparse_categorical_accuracy: 1.0000\n",
      "Epoch 95/100\n",
      "3/3 [==============================] - 0s 11ms/step - loss: 1.0130 - sparse_categorical_accuracy: 1.0000\n",
      "Epoch 96/100\n",
      "3/3 [==============================] - 0s 11ms/step - loss: 1.0077 - sparse_categorical_accuracy: 1.0000\n",
      "Epoch 97/100\n",
      "3/3 [==============================] - 0s 11ms/step - loss: 1.0024 - sparse_categorical_accuracy: 1.0000\n",
      "Epoch 98/100\n",
      "3/3 [==============================] - 0s 12ms/step - loss: 0.9972 - sparse_categorical_accuracy: 1.0000\n",
      "Epoch 99/100\n",
      "3/3 [==============================] - 0s 12ms/step - loss: 0.9918 - sparse_categorical_accuracy: 1.0000\n",
      "Epoch 100/100\n",
      "3/3 [==============================] - 0s 12ms/step - loss: 0.9864 - sparse_categorical_accuracy: 1.0000\n"
     ]
    }
   ],
   "source": [
    "history = model.fit(x_train, y_train, batch_size=2, epochs=100, callbacks=[cp_callback])"
   ],
   "metadata": {
    "collapsed": false,
    "pycharm": {
     "name": "#%%\n"
    }
   }
  },
  {
   "cell_type": "code",
   "execution_count": 31,
   "outputs": [
    {
     "name": "stdout",
     "output_type": "stream",
     "text": [
      "Model: \"sequential_1\"\n",
      "_________________________________________________________________\n",
      " Layer (type)                Output Shape              Param #   \n",
      "=================================================================\n",
      " simple_rnn_1 (SimpleRNN)    (None, 8)                 112       \n",
      "                                                                 \n",
      " dense_1 (Dense)             (None, 5)                 45        \n",
      "                                                                 \n",
      "=================================================================\n",
      "Total params: 157\n",
      "Trainable params: 157\n",
      "Non-trainable params: 0\n",
      "_________________________________________________________________\n"
     ]
    }
   ],
   "source": [
    "model.summary()"
   ],
   "metadata": {
    "collapsed": false,
    "pycharm": {
     "name": "#%%\n"
    }
   }
  },
  {
   "cell_type": "code",
   "execution_count": 34,
   "outputs": [
    {
     "data": {
      "text/plain": "(1, 4, 5)"
     },
     "execution_count": 34,
     "metadata": {},
     "output_type": "execute_result"
    }
   ],
   "source": [
    "test_input = [id2one_hot[char2id['a']], id2one_hot[char2id['e']],id2one_hot[char2id['d']],id2one_hot[char2id['a']]]\n",
    "test_input = np.array(test_input).reshape((1,4,5))\n",
    "test_input.shape"
   ],
   "metadata": {
    "collapsed": false,
    "pycharm": {
     "name": "#%%\n"
    }
   }
  },
  {
   "cell_type": "code",
   "execution_count": 44,
   "outputs": [
    {
     "data": {
      "text/plain": "array([1])"
     },
     "execution_count": 44,
     "metadata": {},
     "output_type": "execute_result"
    }
   ],
   "source": [
    "char_id = tf.math.argmax(model.predict(test_input), axis=1)\n",
    "char_id.numpy()"
   ],
   "metadata": {
    "collapsed": false,
    "pycharm": {
     "name": "#%%\n"
    }
   }
  },
  {
   "cell_type": "markdown",
   "source": [
    "# Embedding\n",
    "keras.layers.Embedding(词汇表大小, embedding维度)\n",
    "注意：输入是[batch, seq_len]的int矩阵！ int值的取值范围是[0,词汇表大小) 输出是[batch, seq_len, embedding]"
   ],
   "metadata": {
    "collapsed": false,
    "pycharm": {
     "name": "#%% md\n"
    }
   }
  },
  {
   "cell_type": "code",
   "execution_count": 52,
   "outputs": [],
   "source": [
    "x_train = [[char2id['a'], char2id['b'], char2id['c'], char2id['e'], char2id['e']],\n",
    "           [char2id['d'], char2id['d'], char2id['c'], char2id['a'], char2id['a']],\n",
    "           [char2id['e'], char2id['e'], char2id['c'], char2id['b'], char2id['e']],\n",
    "           [char2id['a'], char2id['b'], char2id['c'], char2id['d'], char2id['c']],\n",
    "           [char2id['b'], char2id['c'], char2id['c'], char2id['d'], char2id['a']],]\n",
    "y_train = [char2id['a'], char2id['b'], char2id['e'], char2id['d'], char2id['c']]"
   ],
   "metadata": {
    "collapsed": false,
    "pycharm": {
     "name": "#%%\n"
    }
   }
  },
  {
   "cell_type": "code",
   "execution_count": 53,
   "outputs": [],
   "source": [
    "np.random.seed(50)\n",
    "np.random.shuffle(x_train)\n",
    "np.random.seed(50)\n",
    "np.random.shuffle(y_train)"
   ],
   "metadata": {
    "collapsed": false,
    "pycharm": {
     "name": "#%%\n"
    }
   }
  },
  {
   "cell_type": "code",
   "execution_count": 54,
   "outputs": [
    {
     "name": "stdout",
     "output_type": "stream",
     "text": [
      "(5, 5)\n",
      "(5, 1)\n"
     ]
    }
   ],
   "source": [
    "x_train = np.array(x_train)\n",
    "y_train = np.array(y_train).reshape((len(y_train),1))\n",
    "print(x_train.shape)\n",
    "print(y_train.shape)"
   ],
   "metadata": {
    "collapsed": false,
    "pycharm": {
     "name": "#%%\n"
    }
   }
  },
  {
   "cell_type": "code",
   "execution_count": 59,
   "outputs": [
    {
     "data": {
      "text/plain": "array([[0, 1, 2, 3, 2],\n       [4, 4, 2, 1, 4],\n       [3, 3, 2, 0, 0],\n       [1, 2, 2, 3, 0],\n       [0, 1, 2, 4, 4]])"
     },
     "execution_count": 59,
     "metadata": {},
     "output_type": "execute_result"
    }
   ],
   "source": [
    "x_train"
   ],
   "metadata": {
    "collapsed": false,
    "pycharm": {
     "name": "#%%\n"
    }
   }
  },
  {
   "cell_type": "code",
   "execution_count": null,
   "outputs": [],
   "source": [
    "model_with_embedding = keras.models.Sequential([\n",
    "    keras.layers.Embedding(input_dim=5, output_dim=3),\n",
    "    keras.layers.SimpleRNN(units=8),\n",
    "    keras.layers.Dense(units=5, activation='softmax')\n",
    "])"
   ],
   "metadata": {
    "collapsed": false,
    "pycharm": {
     "name": "#%%\n"
    }
   }
  },
  {
   "cell_type": "code",
   "execution_count": 56,
   "outputs": [],
   "source": [
    "model_with_embedding.compile(\n",
    "    optimizer=keras.optimizers.Adam(),\n",
    "    loss = keras.losses.SparseCategoricalCrossentropy(from_logits=False),\n",
    "    metrics=['sparse_categorical_accuracy']\n",
    ")"
   ],
   "metadata": {
    "collapsed": false,
    "pycharm": {
     "name": "#%%\n"
    }
   }
  },
  {
   "cell_type": "code",
   "execution_count": 57,
   "outputs": [],
   "source": [
    "checkpoint_save_path_embedding = 'tensorflow_study/chapter6/model_dir/rnn_embedding_model.ckpt'\n",
    "\n",
    "cp_callback_embedding = keras.callbacks.ModelCheckpoint(\n",
    "    filepath=checkpoint_save_path_embedding,\n",
    "    save_weights_only=True,\n",
    "    save_best_only=True,\n",
    "    monitor='loss',\n",
    ")"
   ],
   "metadata": {
    "collapsed": false,
    "pycharm": {
     "name": "#%%\n"
    }
   }
  },
  {
   "cell_type": "code",
   "execution_count": 64,
   "outputs": [
    {
     "name": "stdout",
     "output_type": "stream",
     "text": [
      "Epoch 1/100\n",
      "3/3 [==============================] - 1s 20ms/step - loss: 1.6150 - sparse_categorical_accuracy: 0.2000\n",
      "Epoch 2/100\n",
      "3/3 [==============================] - 0s 17ms/step - loss: 1.6043 - sparse_categorical_accuracy: 0.4000\n",
      "Epoch 3/100\n",
      "3/3 [==============================] - 0s 17ms/step - loss: 1.5970 - sparse_categorical_accuracy: 0.4000\n",
      "Epoch 4/100\n",
      "3/3 [==============================] - 0s 17ms/step - loss: 1.5898 - sparse_categorical_accuracy: 0.4000\n",
      "Epoch 5/100\n",
      "3/3 [==============================] - 0s 17ms/step - loss: 1.5830 - sparse_categorical_accuracy: 0.4000\n",
      "Epoch 6/100\n",
      "3/3 [==============================] - 0s 16ms/step - loss: 1.5766 - sparse_categorical_accuracy: 0.4000\n",
      "Epoch 7/100\n",
      "3/3 [==============================] - 0s 16ms/step - loss: 1.5673 - sparse_categorical_accuracy: 0.4000\n",
      "Epoch 8/100\n",
      "3/3 [==============================] - 0s 15ms/step - loss: 1.5600 - sparse_categorical_accuracy: 0.4000\n",
      "Epoch 9/100\n",
      "3/3 [==============================] - 0s 17ms/step - loss: 1.5533 - sparse_categorical_accuracy: 0.4000\n",
      "Epoch 10/100\n",
      "3/3 [==============================] - 0s 16ms/step - loss: 1.5450 - sparse_categorical_accuracy: 0.4000\n",
      "Epoch 11/100\n",
      "3/3 [==============================] - 0s 17ms/step - loss: 1.5365 - sparse_categorical_accuracy: 0.4000\n",
      "Epoch 12/100\n",
      "3/3 [==============================] - 0s 16ms/step - loss: 1.5265 - sparse_categorical_accuracy: 0.4000\n",
      "Epoch 13/100\n",
      "3/3 [==============================] - 0s 16ms/step - loss: 1.5182 - sparse_categorical_accuracy: 0.6000\n",
      "Epoch 14/100\n",
      "3/3 [==============================] - 0s 16ms/step - loss: 1.5069 - sparse_categorical_accuracy: 0.6000\n",
      "Epoch 15/100\n",
      "3/3 [==============================] - 0s 17ms/step - loss: 1.4968 - sparse_categorical_accuracy: 0.6000\n",
      "Epoch 16/100\n",
      "3/3 [==============================] - 0s 16ms/step - loss: 1.4875 - sparse_categorical_accuracy: 0.6000\n",
      "Epoch 17/100\n",
      "3/3 [==============================] - 0s 16ms/step - loss: 1.4757 - sparse_categorical_accuracy: 0.6000\n",
      "Epoch 18/100\n",
      "3/3 [==============================] - 0s 16ms/step - loss: 1.4641 - sparse_categorical_accuracy: 0.6000\n",
      "Epoch 19/100\n",
      "3/3 [==============================] - 0s 18ms/step - loss: 1.4524 - sparse_categorical_accuracy: 0.6000\n",
      "Epoch 20/100\n",
      "3/3 [==============================] - 0s 17ms/step - loss: 1.4381 - sparse_categorical_accuracy: 0.6000\n",
      "Epoch 21/100\n",
      "3/3 [==============================] - 0s 18ms/step - loss: 1.4259 - sparse_categorical_accuracy: 0.8000\n",
      "Epoch 22/100\n",
      "3/3 [==============================] - 0s 16ms/step - loss: 1.4126 - sparse_categorical_accuracy: 0.6000\n",
      "Epoch 23/100\n",
      "3/3 [==============================] - 0s 15ms/step - loss: 1.3953 - sparse_categorical_accuracy: 0.6000\n",
      "Epoch 24/100\n",
      "3/3 [==============================] - 0s 16ms/step - loss: 1.3798 - sparse_categorical_accuracy: 0.6000\n",
      "Epoch 25/100\n",
      "3/3 [==============================] - 0s 17ms/step - loss: 1.3689 - sparse_categorical_accuracy: 0.6000\n",
      "Epoch 26/100\n",
      "3/3 [==============================] - 0s 16ms/step - loss: 1.3493 - sparse_categorical_accuracy: 0.6000\n",
      "Epoch 27/100\n",
      "3/3 [==============================] - 0s 17ms/step - loss: 1.3315 - sparse_categorical_accuracy: 0.6000\n",
      "Epoch 28/100\n",
      "3/3 [==============================] - 0s 16ms/step - loss: 1.3170 - sparse_categorical_accuracy: 0.6000\n",
      "Epoch 29/100\n",
      "3/3 [==============================] - 0s 16ms/step - loss: 1.2982 - sparse_categorical_accuracy: 0.6000\n",
      "Epoch 30/100\n",
      "3/3 [==============================] - 0s 17ms/step - loss: 1.2817 - sparse_categorical_accuracy: 0.6000\n",
      "Epoch 31/100\n",
      "3/3 [==============================] - 0s 18ms/step - loss: 1.2625 - sparse_categorical_accuracy: 0.6000\n",
      "Epoch 32/100\n",
      "3/3 [==============================] - 0s 18ms/step - loss: 1.2455 - sparse_categorical_accuracy: 0.6000\n",
      "Epoch 33/100\n",
      "3/3 [==============================] - 0s 15ms/step - loss: 1.2281 - sparse_categorical_accuracy: 0.6000\n",
      "Epoch 34/100\n",
      "3/3 [==============================] - 0s 16ms/step - loss: 1.2098 - sparse_categorical_accuracy: 0.6000\n",
      "Epoch 35/100\n",
      "3/3 [==============================] - 0s 17ms/step - loss: 1.1939 - sparse_categorical_accuracy: 0.6000\n",
      "Epoch 36/100\n",
      "3/3 [==============================] - 0s 16ms/step - loss: 1.1725 - sparse_categorical_accuracy: 0.6000\n",
      "Epoch 37/100\n",
      "3/3 [==============================] - 0s 17ms/step - loss: 1.1583 - sparse_categorical_accuracy: 0.6000\n",
      "Epoch 38/100\n",
      "3/3 [==============================] - 0s 18ms/step - loss: 1.1395 - sparse_categorical_accuracy: 0.6000\n",
      "Epoch 39/100\n",
      "3/3 [==============================] - 0s 17ms/step - loss: 1.1213 - sparse_categorical_accuracy: 0.6000\n",
      "Epoch 40/100\n",
      "3/3 [==============================] - 0s 17ms/step - loss: 1.1059 - sparse_categorical_accuracy: 0.6000\n",
      "Epoch 41/100\n",
      "3/3 [==============================] - 0s 17ms/step - loss: 1.0884 - sparse_categorical_accuracy: 0.6000\n",
      "Epoch 42/100\n",
      "3/3 [==============================] - 0s 17ms/step - loss: 1.0708 - sparse_categorical_accuracy: 0.6000\n",
      "Epoch 43/100\n",
      "3/3 [==============================] - 0s 17ms/step - loss: 1.0549 - sparse_categorical_accuracy: 0.6000\n",
      "Epoch 44/100\n",
      "3/3 [==============================] - 0s 15ms/step - loss: 1.0417 - sparse_categorical_accuracy: 0.6000\n",
      "Epoch 45/100\n",
      "3/3 [==============================] - 0s 18ms/step - loss: 1.0241 - sparse_categorical_accuracy: 0.6000\n",
      "Epoch 46/100\n",
      "3/3 [==============================] - 0s 18ms/step - loss: 1.0096 - sparse_categorical_accuracy: 0.6000\n",
      "Epoch 47/100\n",
      "3/3 [==============================] - 0s 17ms/step - loss: 0.9952 - sparse_categorical_accuracy: 0.6000\n",
      "Epoch 48/100\n",
      "3/3 [==============================] - 0s 17ms/step - loss: 0.9822 - sparse_categorical_accuracy: 0.6000\n",
      "Epoch 49/100\n",
      "3/3 [==============================] - 0s 16ms/step - loss: 0.9689 - sparse_categorical_accuracy: 0.6000\n",
      "Epoch 50/100\n",
      "3/3 [==============================] - 0s 16ms/step - loss: 0.9560 - sparse_categorical_accuracy: 0.6000\n",
      "Epoch 51/100\n",
      "3/3 [==============================] - 0s 15ms/step - loss: 0.9424 - sparse_categorical_accuracy: 0.6000\n",
      "Epoch 52/100\n",
      "3/3 [==============================] - 0s 17ms/step - loss: 0.9298 - sparse_categorical_accuracy: 0.6000\n",
      "Epoch 53/100\n",
      "3/3 [==============================] - 0s 15ms/step - loss: 0.9182 - sparse_categorical_accuracy: 0.6000\n",
      "Epoch 54/100\n",
      "3/3 [==============================] - 0s 16ms/step - loss: 0.9051 - sparse_categorical_accuracy: 0.6000\n",
      "Epoch 55/100\n",
      "3/3 [==============================] - 0s 17ms/step - loss: 0.8938 - sparse_categorical_accuracy: 0.6000\n",
      "Epoch 56/100\n",
      "3/3 [==============================] - 0s 16ms/step - loss: 0.8822 - sparse_categorical_accuracy: 1.0000\n",
      "Epoch 57/100\n",
      "3/3 [==============================] - 0s 17ms/step - loss: 0.8706 - sparse_categorical_accuracy: 1.0000\n",
      "Epoch 58/100\n",
      "3/3 [==============================] - 0s 17ms/step - loss: 0.8587 - sparse_categorical_accuracy: 1.0000\n",
      "Epoch 59/100\n",
      "3/3 [==============================] - 0s 18ms/step - loss: 0.8493 - sparse_categorical_accuracy: 1.0000\n",
      "Epoch 60/100\n",
      "3/3 [==============================] - 0s 17ms/step - loss: 0.8376 - sparse_categorical_accuracy: 1.0000\n",
      "Epoch 61/100\n",
      "3/3 [==============================] - 0s 16ms/step - loss: 0.8265 - sparse_categorical_accuracy: 1.0000\n",
      "Epoch 62/100\n",
      "3/3 [==============================] - 0s 14ms/step - loss: 0.8158 - sparse_categorical_accuracy: 1.0000\n",
      "Epoch 63/100\n",
      "3/3 [==============================] - 0s 16ms/step - loss: 0.8056 - sparse_categorical_accuracy: 1.0000\n",
      "Epoch 64/100\n",
      "3/3 [==============================] - 0s 17ms/step - loss: 0.7963 - sparse_categorical_accuracy: 1.0000\n",
      "Epoch 65/100\n",
      "3/3 [==============================] - 0s 17ms/step - loss: 0.7861 - sparse_categorical_accuracy: 1.0000\n",
      "Epoch 66/100\n",
      "3/3 [==============================] - 0s 17ms/step - loss: 0.7765 - sparse_categorical_accuracy: 1.0000\n",
      "Epoch 67/100\n",
      "3/3 [==============================] - 0s 17ms/step - loss: 0.7672 - sparse_categorical_accuracy: 1.0000\n",
      "Epoch 68/100\n",
      "3/3 [==============================] - 0s 17ms/step - loss: 0.7580 - sparse_categorical_accuracy: 1.0000\n",
      "Epoch 69/100\n",
      "3/3 [==============================] - 0s 17ms/step - loss: 0.7487 - sparse_categorical_accuracy: 1.0000\n",
      "Epoch 70/100\n",
      "3/3 [==============================] - 0s 17ms/step - loss: 0.7392 - sparse_categorical_accuracy: 1.0000\n",
      "Epoch 71/100\n",
      "3/3 [==============================] - 0s 18ms/step - loss: 0.7311 - sparse_categorical_accuracy: 1.0000\n",
      "Epoch 72/100\n",
      "3/3 [==============================] - 0s 18ms/step - loss: 0.7219 - sparse_categorical_accuracy: 1.0000\n",
      "Epoch 73/100\n",
      "3/3 [==============================] - 0s 16ms/step - loss: 0.7147 - sparse_categorical_accuracy: 1.0000\n",
      "Epoch 74/100\n",
      "3/3 [==============================] - 0s 16ms/step - loss: 0.7057 - sparse_categorical_accuracy: 1.0000\n",
      "Epoch 75/100\n",
      "3/3 [==============================] - 0s 18ms/step - loss: 0.6961 - sparse_categorical_accuracy: 1.0000\n",
      "Epoch 76/100\n",
      "3/3 [==============================] - 0s 16ms/step - loss: 0.6882 - sparse_categorical_accuracy: 1.0000\n",
      "Epoch 77/100\n",
      "3/3 [==============================] - 0s 15ms/step - loss: 0.6790 - sparse_categorical_accuracy: 1.0000\n",
      "Epoch 78/100\n",
      "3/3 [==============================] - 0s 16ms/step - loss: 0.6712 - sparse_categorical_accuracy: 1.0000\n",
      "Epoch 79/100\n",
      "3/3 [==============================] - 0s 17ms/step - loss: 0.6640 - sparse_categorical_accuracy: 1.0000\n",
      "Epoch 80/100\n",
      "3/3 [==============================] - 0s 17ms/step - loss: 0.6560 - sparse_categorical_accuracy: 1.0000\n",
      "Epoch 81/100\n",
      "3/3 [==============================] - 0s 16ms/step - loss: 0.6480 - sparse_categorical_accuracy: 1.0000\n",
      "Epoch 82/100\n",
      "3/3 [==============================] - 0s 17ms/step - loss: 0.6394 - sparse_categorical_accuracy: 1.0000\n",
      "Epoch 83/100\n",
      "3/3 [==============================] - 0s 17ms/step - loss: 0.6322 - sparse_categorical_accuracy: 1.0000\n",
      "Epoch 84/100\n",
      "3/3 [==============================] - 0s 18ms/step - loss: 0.6247 - sparse_categorical_accuracy: 1.0000\n",
      "Epoch 85/100\n",
      "3/3 [==============================] - 0s 17ms/step - loss: 0.6167 - sparse_categorical_accuracy: 1.0000\n",
      "Epoch 86/100\n",
      "3/3 [==============================] - 0s 17ms/step - loss: 0.6090 - sparse_categorical_accuracy: 1.0000\n",
      "Epoch 87/100\n",
      "3/3 [==============================] - 0s 16ms/step - loss: 0.6030 - sparse_categorical_accuracy: 1.0000\n",
      "Epoch 88/100\n",
      "3/3 [==============================] - 0s 17ms/step - loss: 0.5951 - sparse_categorical_accuracy: 1.0000\n",
      "Epoch 89/100\n",
      "3/3 [==============================] - 0s 16ms/step - loss: 0.5888 - sparse_categorical_accuracy: 1.0000\n",
      "Epoch 90/100\n",
      "3/3 [==============================] - 0s 17ms/step - loss: 0.5806 - sparse_categorical_accuracy: 1.0000\n",
      "Epoch 91/100\n",
      "3/3 [==============================] - 0s 17ms/step - loss: 0.5737 - sparse_categorical_accuracy: 1.0000\n",
      "Epoch 92/100\n",
      "3/3 [==============================] - 0s 16ms/step - loss: 0.5682 - sparse_categorical_accuracy: 1.0000\n",
      "Epoch 93/100\n",
      "3/3 [==============================] - 0s 16ms/step - loss: 0.5594 - sparse_categorical_accuracy: 1.0000\n",
      "Epoch 94/100\n",
      "3/3 [==============================] - 0s 18ms/step - loss: 0.5524 - sparse_categorical_accuracy: 1.0000\n",
      "Epoch 95/100\n",
      "3/3 [==============================] - 0s 17ms/step - loss: 0.5458 - sparse_categorical_accuracy: 1.0000\n",
      "Epoch 96/100\n",
      "3/3 [==============================] - 0s 16ms/step - loss: 0.5400 - sparse_categorical_accuracy: 1.0000\n",
      "Epoch 97/100\n",
      "3/3 [==============================] - 0s 17ms/step - loss: 0.5347 - sparse_categorical_accuracy: 1.0000\n",
      "Epoch 98/100\n",
      "3/3 [==============================] - 0s 20ms/step - loss: 0.5271 - sparse_categorical_accuracy: 1.0000\n",
      "Epoch 99/100\n",
      "3/3 [==============================] - 0s 17ms/step - loss: 0.5201 - sparse_categorical_accuracy: 1.0000\n",
      "Epoch 100/100\n",
      "3/3 [==============================] - 0s 17ms/step - loss: 0.5144 - sparse_categorical_accuracy: 1.0000\n"
     ]
    }
   ],
   "source": [
    "history_embedding = model_with_embedding.fit(x_train, y_train, batch_size=2, epochs=100, callbacks=[cp_callback_embedding])"
   ],
   "metadata": {
    "collapsed": false,
    "pycharm": {
     "name": "#%%\n"
    }
   }
  },
  {
   "cell_type": "code",
   "execution_count": null,
   "outputs": [],
   "source": [],
   "metadata": {
    "collapsed": false,
    "pycharm": {
     "name": "#%%\n"
    }
   }
  }
 ],
 "metadata": {
  "kernelspec": {
   "display_name": "Python 3",
   "language": "python",
   "name": "python3"
  },
  "language_info": {
   "codemirror_mode": {
    "name": "ipython",
    "version": 2
   },
   "file_extension": ".py",
   "mimetype": "text/x-python",
   "name": "python",
   "nbconvert_exporter": "python",
   "pygments_lexer": "ipython2",
   "version": "2.7.6"
  }
 },
 "nbformat": 4,
 "nbformat_minor": 0
}